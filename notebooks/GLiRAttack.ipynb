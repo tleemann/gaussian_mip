{
 "cells": [
  {
   "cell_type": "markdown",
   "id": "2ec60439-6cb4-4b27-9ad7-89cb732b7eb3",
   "metadata": {},
   "source": [
    "## Implement the Gradient Log-Likelihood Attack (GLiR) on the trained models"
   ]
  },
  {
   "cell_type": "code",
   "execution_count": 1,
   "id": "56c091c6-35a9-48d3-9915-dd68872155d5",
   "metadata": {},
   "outputs": [],
   "source": [
    "import sys\n",
    "sys.path.append(\"..\")\n",
    "import os\n",
    "os.chdir(\"..\")"
   ]
  },
  {
   "cell_type": "code",
   "execution_count": 2,
   "id": "bddaa22e-ac13-47a5-9b30-f2078b1d6db1",
   "metadata": {
    "tags": []
   },
   "outputs": [],
   "source": [
    "import torchvision\n",
    "import torch\n",
    "import torchvision.transforms as transforms\n",
    "from torchvision import datasets, models\n",
    "\n",
    "from opacus.grad_sample import GradSampleModule\n",
    "import matplotlib.pyplot as plt\n",
    "import matplotlib.pyplot as plt\n",
    "import numpy as np\n",
    "from scipy.stats import norm, ncx2\n",
    "from torch.utils.data import TensorDataset, DataLoader"
   ]
  },
  {
   "cell_type": "code",
   "execution_count": 3,
   "id": "3642fa8c-9f71-428b-9207-cb469acc026f",
   "metadata": {},
   "outputs": [],
   "source": [
    "%load_ext autoreload\n",
    "%autoreload 2"
   ]
  },
  {
   "cell_type": "code",
   "execution_count": 4,
   "id": "9e4843c1",
   "metadata": {},
   "outputs": [],
   "source": [
    "if torch.cuda.is_available() and torch.cuda.device_count() > 0:\n",
    "    use_device = torch.device('cuda:0')\n",
    "else:\n",
    "    use_device = torch.device('cpu')"
   ]
  },
  {
   "cell_type": "markdown",
   "id": "5062c274-b8f5-43d2-9755-7e65a5497a2c",
   "metadata": {},
   "source": [
    "## 1. Simulated Gradients"
   ]
  },
  {
   "cell_type": "markdown",
   "id": "a6377fcd-6d7c-4e64-a31f-a563de07e522",
   "metadata": {},
   "source": [
    "For our first experiment, we use a simulated gradient distribution (Figure 2a of the paper). We instantiate a simualted model through the ```SimulatedGradientTracer``` class."
   ]
  },
  {
   "cell_type": "code",
   "execution_count": 5,
   "id": "effa5afb-f19f-41bb-87a9-0b94f76b82eb",
   "metadata": {},
   "outputs": [],
   "source": [
    "from gmip.glir import GaussianDataLoader\n",
    "from gmip.glir import SimulatedGradientTracer, DirectGradients\n",
    "from gmip.glir import GLiRAttack\n",
    "from gmip.dp_sgd import recursive_fix\n",
    "from gmip.utils import analytical_tpr"
   ]
  },
  {
   "cell_type": "code",
   "execution_count": 6,
   "id": "569ec60d-4274-4f34-bb90-4d21086f9d82",
   "metadata": {},
   "outputs": [],
   "source": [
    "fs = np.linspace(0,1,100)\n",
    "fs_log = np.exp(np.linspace(-12, 0, 100))\n",
    "from scipy import interpolate\n",
    "from sklearn.metrics import roc_curve\n",
    "def interpolate_tprs(fprs, stats_lists):\n",
    "    ts_rates = []\n",
    "    for run in stats_lists:\n",
    "        fs, ts, thresholds = roc_curve(run[1], -run[0], pos_label=1)\n",
    "        f = interpolate.interp1d(fs, ts, fill_value=0)\n",
    "        ts_rates.append(f(fprs))\n",
    "    ts_rates = np.stack(ts_rates)\n",
    "    return ts_rates"
   ]
  },
  {
   "cell_type": "code",
   "execution_count": 8,
   "id": "4b47c3c7-c088-4a6b-ba3e-20206e183b90",
   "metadata": {},
   "outputs": [
    {
     "name": "stdout",
     "output_type": "stream",
     "text": [
      "Executing  5 runs for cifar10\n"
     ]
    },
    {
     "name": "stderr",
     "output_type": "stream",
     "text": [
      "100%|███████████████████████████████████████████████████████████████████████████████████████████████████████| 2/2 [00:00<00:00, 387.20it/s]\n",
      "100%|███████████████████████████████████████████████████████████████████████████████████████████████████████| 2/2 [00:00<00:00, 517.43it/s]\n",
      "100%|███████████████████████████████████████████████████████████████████████████████████████████████████████| 2/2 [00:00<00:00, 546.52it/s]\n",
      "100%|███████████████████████████████████████████████████████████████████████████████████████████████████████| 2/2 [00:00<00:00, 522.13it/s]\n",
      "100%|███████████████████████████████████████████████████████████████████████████████████████████████████████| 2/2 [00:00<00:00, 517.62it/s]\n"
     ]
    },
    {
     "name": "stdout",
     "output_type": "stream",
     "text": [
      "Executing  5 runs for cifar10\n"
     ]
    },
    {
     "name": "stderr",
     "output_type": "stream",
     "text": [
      "100%|███████████████████████████████████████████████████████████████████████████████████████████████████████| 2/2 [00:00<00:00, 510.60it/s]\n",
      "100%|███████████████████████████████████████████████████████████████████████████████████████████████████████| 2/2 [00:00<00:00, 504.09it/s]\n",
      "100%|███████████████████████████████████████████████████████████████████████████████████████████████████████| 2/2 [00:00<00:00, 516.48it/s]\n",
      "100%|███████████████████████████████████████████████████████████████████████████████████████████████████████| 2/2 [00:00<00:00, 512.94it/s]\n",
      "100%|███████████████████████████████████████████████████████████████████████████████████████████████████████| 2/2 [00:00<00:00, 493.24it/s]\n"
     ]
    },
    {
     "name": "stdout",
     "output_type": "stream",
     "text": [
      "Executing  5 runs for cifar10\n"
     ]
    },
    {
     "name": "stderr",
     "output_type": "stream",
     "text": [
      "100%|███████████████████████████████████████████████████████████████████████████████████████████████████████| 2/2 [00:00<00:00, 475.84it/s]\n",
      "100%|███████████████████████████████████████████████████████████████████████████████████████████████████████| 2/2 [00:00<00:00, 497.49it/s]\n",
      "100%|███████████████████████████████████████████████████████████████████████████████████████████████████████| 2/2 [00:00<00:00, 493.16it/s]\n",
      "100%|███████████████████████████████████████████████████████████████████████████████████████████████████████| 2/2 [00:00<00:00, 503.31it/s]\n",
      "100%|███████████████████████████████████████████████████████████████████████████████████████████████████████| 2/2 [00:00<00:00, 520.93it/s]\n"
     ]
    },
    {
     "name": "stdout",
     "output_type": "stream",
     "text": [
      "Executing  5 runs for cifar10\n"
     ]
    },
    {
     "name": "stderr",
     "output_type": "stream",
     "text": [
      "100%|███████████████████████████████████████████████████████████████████████████████████████████████████████| 2/2 [00:00<00:00, 488.62it/s]\n",
      "100%|███████████████████████████████████████████████████████████████████████████████████████████████████████| 2/2 [00:00<00:00, 493.39it/s]\n",
      "100%|███████████████████████████████████████████████████████████████████████████████████████████████████████| 2/2 [00:00<00:00, 492.95it/s]\n",
      "100%|███████████████████████████████████████████████████████████████████████████████████████████████████████| 2/2 [00:00<00:00, 497.57it/s]\n",
      "100%|███████████████████████████████████████████████████████████████████████████████████████████████████████| 2/2 [00:00<00:00, 503.79it/s]\n",
      "100%|███████████████████████████████████████████████████████████████████████████████████████████████████████| 2/2 [00:00<00:00, 497.16it/s]\n"
     ]
    },
    {
     "name": "stdout",
     "output_type": "stream",
     "text": [
      "Executing  5 runs for cifar10\n"
     ]
    },
    {
     "name": "stderr",
     "output_type": "stream",
     "text": [
      "100%|███████████████████████████████████████████████████████████████████████████████████████████████████████| 2/2 [00:00<00:00, 511.22it/s]\n",
      "100%|███████████████████████████████████████████████████████████████████████████████████████████████████████| 2/2 [00:00<00:00, 510.57it/s]\n",
      "100%|███████████████████████████████████████████████████████████████████████████████████████████████████████| 2/2 [00:00<00:00, 498.17it/s]\n",
      "100%|███████████████████████████████████████████████████████████████████████████████████████████████████████| 2/2 [00:00<00:00, 517.72it/s]\n",
      "100%|███████████████████████████████████████████████████████████████████████████████████████████████████████| 2/2 [00:00<00:00, 504.37it/s]\n"
     ]
    },
    {
     "name": "stdout",
     "output_type": "stream",
     "text": [
      "Executing  2 runs for purchase\n"
     ]
    },
    {
     "name": "stderr",
     "output_type": "stream",
     "text": [
      "100%|████████████████████████████████████████████████████████████████████████████████████████████████████████| 2/2 [00:00<00:00, 93.97it/s]\n",
      "100%|███████████████████████████████████████████████████████████████████████████████████████████████████████| 2/2 [00:00<00:00, 135.76it/s]\n"
     ]
    },
    {
     "name": "stdout",
     "output_type": "stream",
     "text": [
      "Executing  2 runs for purchase\n"
     ]
    },
    {
     "name": "stderr",
     "output_type": "stream",
     "text": [
      "100%|███████████████████████████████████████████████████████████████████████████████████████████████████████| 2/2 [00:00<00:00, 148.14it/s]\n",
      "100%|███████████████████████████████████████████████████████████████████████████████████████████████████████| 2/2 [00:00<00:00, 146.73it/s]\n"
     ]
    },
    {
     "name": "stdout",
     "output_type": "stream",
     "text": [
      "Executing  2 runs for purchase\n"
     ]
    },
    {
     "name": "stderr",
     "output_type": "stream",
     "text": [
      "100%|███████████████████████████████████████████████████████████████████████████████████████████████████████| 2/2 [00:00<00:00, 150.50it/s]\n",
      "100%|███████████████████████████████████████████████████████████████████████████████████████████████████████| 2/2 [00:00<00:00, 148.82it/s]\n"
     ]
    },
    {
     "name": "stdout",
     "output_type": "stream",
     "text": [
      "Executing  2 runs for purchase\n"
     ]
    },
    {
     "name": "stderr",
     "output_type": "stream",
     "text": [
      "100%|███████████████████████████████████████████████████████████████████████████████████████████████████████| 2/2 [00:00<00:00, 136.43it/s]\n",
      "100%|███████████████████████████████████████████████████████████████████████████████████████████████████████| 2/2 [00:00<00:00, 151.44it/s]\n"
     ]
    },
    {
     "name": "stdout",
     "output_type": "stream",
     "text": [
      "Executing  2 runs for purchase\n"
     ]
    },
    {
     "name": "stderr",
     "output_type": "stream",
     "text": [
      "100%|███████████████████████████████████████████████████████████████████████████████████████████████████████| 2/2 [00:00<00:00, 144.56it/s]\n",
      "100%|███████████████████████████████████████████████████████████████████████████████████████████████████████| 2/2 [00:00<00:00, 149.12it/s]\n"
     ]
    },
    {
     "name": "stdout",
     "output_type": "stream",
     "text": [
      "Executing  3 runs for adult\n"
     ]
    },
    {
     "name": "stderr",
     "output_type": "stream",
     "text": [
      "100%|███████████████████████████████████████████████████████████████████████████████████████████████████████| 2/2 [00:00<00:00, 363.16it/s]\n",
      "100%|███████████████████████████████████████████████████████████████████████████████████████████████████████| 2/2 [00:00<00:00, 298.60it/s]\n",
      "100%|███████████████████████████████████████████████████████████████████████████████████████████████████████| 2/2 [00:00<00:00, 354.97it/s]\n"
     ]
    },
    {
     "name": "stdout",
     "output_type": "stream",
     "text": [
      "Executing  3 runs for adult\n"
     ]
    },
    {
     "name": "stderr",
     "output_type": "stream",
     "text": [
      "100%|███████████████████████████████████████████████████████████████████████████████████████████████████████| 2/2 [00:00<00:00, 295.12it/s]\n",
      "100%|███████████████████████████████████████████████████████████████████████████████████████████████████████| 2/2 [00:00<00:00, 307.35it/s]\n",
      "100%|███████████████████████████████████████████████████████████████████████████████████████████████████████| 2/2 [00:00<00:00, 302.10it/s]\n"
     ]
    },
    {
     "name": "stdout",
     "output_type": "stream",
     "text": [
      "Executing  3 runs for adult\n"
     ]
    },
    {
     "name": "stderr",
     "output_type": "stream",
     "text": [
      "100%|███████████████████████████████████████████████████████████████████████████████████████████████████████| 2/2 [00:00<00:00, 301.11it/s]\n",
      "100%|███████████████████████████████████████████████████████████████████████████████████████████████████████| 2/2 [00:00<00:00, 280.23it/s]\n",
      "100%|███████████████████████████████████████████████████████████████████████████████████████████████████████| 2/2 [00:00<00:00, 294.57it/s]\n",
      "100%|███████████████████████████████████████████████████████████████████████████████████████████████████████| 2/2 [00:00<00:00, 276.17it/s]\n"
     ]
    },
    {
     "name": "stdout",
     "output_type": "stream",
     "text": [
      "Executing  3 runs for adult\n"
     ]
    },
    {
     "name": "stderr",
     "output_type": "stream",
     "text": [
      "100%|███████████████████████████████████████████████████████████████████████████████████████████████████████| 2/2 [00:00<00:00, 277.11it/s]\n",
      "100%|███████████████████████████████████████████████████████████████████████████████████████████████████████| 2/2 [00:00<00:00, 306.59it/s]\n",
      "100%|███████████████████████████████████████████████████████████████████████████████████████████████████████| 2/2 [00:00<00:00, 288.76it/s]\n"
     ]
    },
    {
     "name": "stdout",
     "output_type": "stream",
     "text": [
      "Executing  3 runs for adult\n"
     ]
    },
    {
     "name": "stderr",
     "output_type": "stream",
     "text": [
      "100%|███████████████████████████████████████████████████████████████████████████████████████████████████████| 2/2 [00:00<00:00, 294.26it/s]\n",
      "100%|███████████████████████████████████████████████████████████████████████████████████████████████████████| 2/2 [00:00<00:00, 304.42it/s]\n",
      "100%|███████████████████████████████████████████████████████████████████████████████████████████████████████| 2/2 [00:00<00:00, 293.02it/s]\n"
     ]
    }
   ],
   "source": [
    "#params = {  #(d, n_avg) tuples\n",
    "n_reps = 5\n",
    "fs_use = np.linspace(0,1,100)\n",
    "#params = {\"purchase\": (2560, 1970), \"adult\": (1026, 970), \"cifar10\": (650, 500)}\n",
    "params = {\"cifar10\": (650, 500), \"purchase\": (2560, 1970), \"adult\": (1026, 970), \"cifar10\": (650, 500)}\n",
    "ts_rates_all = {}\n",
    "gradient_interface = DirectGradients()\n",
    "for setup_name, (d, n_avg) in params.items():\n",
    "    scores = [] # attack scores\n",
    "    labels = [] # sample labels (in or out of train set)\n",
    "    # To plot the curves until a FPR of 10^{-14] we need roughly 20k points.\n",
    "    n_runs = n_runs = ((2000//n_avg)+1)\n",
    "    for j in range(n_reps):\n",
    "        rep_list = []\n",
    "        print(\"Executing \", n_runs, \"runs for\", setup_name)\n",
    "        for i in range(n_runs):\n",
    "            out_scores = None\n",
    "            while out_scores is None or np.isnan(out_scores).any(): # Catch NaN values due to underflow\n",
    "                s = torch.randn(d,d)\n",
    "                sigma = s.t() @ s\n",
    "                gdl = GaussianDataLoader(mu = torch.zeros(d), Sigma=sigma, batch_size=n_avg)\n",
    "                gdl_iter = iter(gdl)\n",
    "                in_points = next(gdl_iter) # Points in the dataset\n",
    "                out_points = next(gdl_iter) # Test points\n",
    "                v_mean = torch.mean(in_points, axis=0)\n",
    "                input_samples = torch.cat((in_points, out_points), axis=0)\n",
    "                sim_tr = SimulatedGradientTracer(v_mean)\n",
    "                attack = GLiRAttack(gdl, gradient_interface, sim_tr, d, n_avg)\n",
    "                out_scores = attack.compute_glir_attack_scores(input_samples, batch_size=n_avg)\n",
    "            scores.append(out_scores)\n",
    "            labels.append(torch.ones(n_avg))\n",
    "            labels.append(torch.zeros(n_avg))\n",
    "        all_scores = torch.cat(scores)\n",
    "        all_labels = torch.cat(labels)\n",
    "        rep_list.append((all_scores, all_labels))\n",
    "    ts_rates_all[setup_name] = interpolate_tprs(fs_use, rep_list)"
   ]
  },
  {
   "cell_type": "code",
   "execution_count": 9,
   "id": "0bd3a40b-e44b-47f5-b67e-8c4e2c5b2f91",
   "metadata": {},
   "outputs": [
    {
     "data": {
      "image/png": "[encoded data removed]",
      "text/plain": [
       "<Figure size 300x220 with 1 Axes>"
      ]
     },
     "metadata": {},
     "output_type": "display_data"
    }
   ],
   "source": [
    "#ts_rates_all = torch.load(\"figures/grad_attack_rates1.pt\")\n",
    "colors = [\"g\", \"m\", \"r\"]\n",
    "for setup_use, color_use in zip(ts_rates_all.keys(), colors):\n",
    "    mean_rnd = np.mean(ts_rates_all[setup_use], axis=0)\n",
    "    mean_rnd_std = np.std(ts_rates_all[setup_use], axis=0) # Standard error\n",
    "    plt.fill_between(fs_use, mean_rnd-mean_rnd_std, mean_rnd+mean_rnd_std, color=color_use, alpha = 0.1)\n",
    "    plt.plot(fs_use, mean_rnd, label = f\"{setup_use}\", color=color_use)  \n",
    "\n",
    "plt.plot(fs_use, fs_use, \"--k\", linewidth=2)\n",
    "\n",
    "plt.plot(fs_use, analytical_tpr(fs_use, 1.14), \"--\", color=\"tab:blue\", label = \"analytical\\n($\\mu=1.14$)\", linewidth=2)\n",
    "plt.ylabel(\"TPR\")\n",
    "plt.xlabel(\"FPR\")\n",
    "plt.legend(loc=\"lower right\")\n",
    "plt.grid(color='0.6')\n",
    "plt.gcf().set_size_inches(3.0,2.2)\n",
    "plt.tight_layout()"
   ]
  },
  {
   "cell_type": "markdown",
   "id": "98954adf-8578-465d-a966-bdd013bca846",
   "metadata": {},
   "source": [
    "## 2. Real Gradients"
   ]
  },
  {
   "cell_type": "markdown",
   "id": "33a3d31d-6fd8-4df1-8140-76d72aef46f9",
   "metadata": {},
   "source": [
    "We can now run the attack for real model gradients as shown in Figure 2b of the paper."
   ]
  },
  {
   "cell_type": "markdown",
   "id": "919ffed6-1d36-419a-b2b3-0c75776aba44",
   "metadata": {},
   "source": [
    "To be able to run the attack, we first need to train the corresponding models. This can be done by running the script ```train_scripts/trains_model_audit.sh``` and passing the corresponding dataset.\n",
    "For all three supported datasets, this requires running the three commands\n",
    "\n",
    "```\n",
    "./train_scripts/train_models_audit.sh cifar10\n",
    "./train_scripts/train_models_audit.sh adult\n",
    "./train_scripts/train_models_audit.sh purchase\n",
    "```"
   ]
  },
  {
   "cell_type": "markdown",
   "id": "f5b46464-dd77-40b4-a999-997c784d6e98",
   "metadata": {},
   "source": [
    "### Datasets and Loaders"
   ]
  },
  {
   "cell_type": "markdown",
   "id": "f1912e9f-a990-4b7a-9e51-d7a740769927",
   "metadata": {},
   "source": [
    "First, we setup datasets and loaders for each of the 3 datasets used in our work."
   ]
  },
  {
   "cell_type": "code",
   "execution_count": 10,
   "id": "2143920c-f92c-435e-b445-b32bdd469776",
   "metadata": {},
   "outputs": [
    {
     "name": "stdout",
     "output_type": "stream",
     "text": [
      "Downloading https://www.cs.toronto.edu/~kriz/cifar-10-python.tar.gz to datasets/cifar-10-python.tar.gz\n"
     ]
    },
    {
     "name": "stderr",
     "output_type": "stream",
     "text": [
      "100%|██████████████████████████████████████████████████████████████████████████████████| 170498071/170498071 [00:10<00:00, 16553201.27it/s]\n"
     ]
    },
    {
     "name": "stdout",
     "output_type": "stream",
     "text": [
      "Extracting datasets/cifar-10-python.tar.gz to datasets/\n",
      "Files already downloaded and verified\n"
     ]
    }
   ],
   "source": [
    "# CIFAR 10\n",
    "transform_test = transforms.Compose([transforms.ToTensor(), transforms.Normalize((0.5070, 0.4865, 0.4409), (0.2673, 0.2564, 0.2761))])\n",
    "cifar_train = torchvision.datasets.CIFAR10(root=\"datasets/\", train=True, download=True, transform=transform_test)\n",
    "cifar_test= torchvision.datasets.CIFAR10(root=\"datasets/\", train=False, download=True, transform=transform_test)"
   ]
  },
  {
   "cell_type": "code",
   "execution_count": 11,
   "id": "4501f50a-4e3f-40e8-b54d-8c0e6a679641",
   "metadata": {},
   "outputs": [
    {
     "name": "stdout",
     "output_type": "stream",
     "text": [
      "65494 65494\n"
     ]
    }
   ],
   "source": [
    "# Purchase\n",
    "import pandas as pd\n",
    "import torch.utils.data as data\n",
    "\n",
    "def base_csv_load(dataset):\n",
    "    dataset_path = \"datasets/\"\n",
    "    df = pd.read_csv(f\"{dataset_path}{dataset}/{dataset}.csv\", header=None)\n",
    "    dataset_tensor = torch.tensor(df.values)\n",
    "    labels = dataset_tensor[:, 0].long()\n",
    "    features = dataset_tensor[:, 1:].float()\n",
    "\n",
    "    # normalization\n",
    "    features = (features-features.mean(axis=0))/(features.std(axis=0)+1e-5)\n",
    "    return features, labels\n",
    "\n",
    "dataset = \"purchase\"\n",
    "features, labels = base_csv_load(dataset)\n",
    "# splite in finetune and pretrain dataset\n",
    "_, counts = torch.unique(labels, return_counts=True)\n",
    "freq_ranks = torch.argsort(np.argsort(-counts))\n",
    "#pretrain_dataset = freq_ranks[labels-1] >= 20\n",
    "finetune_dataset = freq_ranks[labels-1] < 20\n",
    "#labels_pretrain = labels.iloc[pretrain_dataset].values\n",
    "#features_pretrain = features.iloc[pretrain_dataset].values\n",
    "finetune_labels = labels[finetune_dataset]\n",
    "finetune_features = features[finetune_dataset]\n",
    "print(len(finetune_features), len(finetune_labels))\n",
    "finetune_labels = freq_ranks[finetune_labels-1] # map labels from 0 -> 19.\n",
    "test_data = 10000\n",
    "x_test_pre, y_test = finetune_features[:test_data].float(),  finetune_labels[:test_data].long()\n",
    "x_train_pre, y_train = finetune_features[test_data:].float(),  finetune_labels[test_data:].long()\n",
    "# Create datasets\n",
    "purchase_train = data.TensorDataset(x_train_pre, y_train)\n",
    "purchase_test = data.TensorDataset(x_test_pre, y_test)"
   ]
  },
  {
   "cell_type": "code",
   "execution_count": 12,
   "id": "5afa8b50-578c-4362-b795-de3a4796c611",
   "metadata": {},
   "outputs": [],
   "source": [
    "## Adult\n",
    "dataset = \"adult\"\n",
    "features, labels = base_csv_load(dataset)\n",
    "\n",
    "test_data = 5000\n",
    "x_test_pre, y_test = features[:test_data].float(),  labels[:test_data].long()\n",
    "x_train_pre, y_train = features[test_data:].float(),  labels[test_data:].long()\n",
    "# Create datasets\n",
    "train_data_adult = data.TensorDataset(x_train_pre, y_train)\n",
    "test_data_adult = data.TensorDataset(x_test_pre, y_test)"
   ]
  },
  {
   "cell_type": "markdown",
   "id": "7be13a52-b671-4c31-a5b9-d7e6015b6619",
   "metadata": {},
   "source": [
    "### Model construction for both datasets with pretrained weights."
   ]
  },
  {
   "cell_type": "code",
   "execution_count": 21,
   "id": "6383135a-b3df-4fdc-a1e1-4f1e488c15ab",
   "metadata": {},
   "outputs": [],
   "source": [
    "from train_scripts.train_tabular import create_purchase_base, create_adult_base\n",
    "from opacus.grad_sample import GradSampleModule\n",
    "import torch.nn as nn\n",
    "def load_cifar10_model():\n",
    "    arch=\"resnet56\"\n",
    "    ## Load empty model\n",
    "    #model = torch.hub.load(\"chenyaofo/pytorch-cifar-models\", \"cifar100_shufflenetv2_x0_5\", pretrained=True)\n",
    "    model = torch.hub.load(\"chenyaofo/pytorch-cifar-models\", f\"cifar100_{arch}\", pretrained=True)\n",
    "    model = model.train()\n",
    "    # some modifications of the model are necessary - replace batch norm layers\n",
    "    recursive_fix(model)\n",
    "    for p in model.parameters():\n",
    "        p.requires_grad_(False)\n",
    "    # adapt last layer to match CIFAR-10 output size\n",
    "    in_feat = model.fc.in_features\n",
    "    model.fc = torch.nn.Linear(in_feat, 10, bias=True)\n",
    "    return GradSampleModule(model, loss_reduction = \"mean\"), lambda model, state: model.load_state_dict(state)\n",
    "\n",
    "def load_purchase_model():\n",
    "    model_finetune = create_purchase_base()[0].to(use_device)\n",
    "    \n",
    "    model_finetune.load_state_dict(torch.load(\"tabular/tabular_base998.pt\", map_location=torch.device(use_device)))\n",
    "    \n",
    "    ## Shut off dropout and change last layer.\n",
    "    for p in model_finetune.parameters():\n",
    "        p.requires_grad_(False)\n",
    "    model_finetune[1].p=0.0\n",
    "    model_finetune[4].p=0.0\n",
    "    model_finetune[6] = nn.Linear(128, 20)\n",
    "    return GradSampleModule(model_finetune, loss_reduction = \"mean\"), lambda model, state: model._module[6].load_state_dict(state)\n",
    "\n",
    "def load_adult_model():\n",
    "   \n",
    "    model_finetune = create_adult_base()[0].to(use_device)\n",
    "    for p in model_finetune.parameters():\n",
    "        p.requires_grad_(False)\n",
    "    infeat = model_finetune[0].out_features\n",
    "    model_finetune[2] = torch.nn.Linear(infeat, 2, bias=True)\n",
    "    return GradSampleModule(model_finetune, loss_reduction = \"mean\"), lambda model, state: model._module.load_state_dict(state)"
   ]
  },
  {
   "cell_type": "markdown",
   "id": "175bea2e-fe4d-466e-8c65-7be09c33a9e4",
   "metadata": {},
   "source": [
    "We first load and attack the models that were trained only for a single step using the corresponding training script (```train_scripts/train_models_audit.sh```)"
   ]
  },
  {
   "cell_type": "markdown",
   "id": "455b22a0-e24b-4744-b443-3e1dce18e057",
   "metadata": {},
   "source": [
    "### Run GLiR attack for one or multiple training steps"
   ]
  },
  {
   "cell_type": "code",
   "execution_count": 62,
   "id": "8ef55c2a-7ad2-4de9-8c4b-8714a025e9b6",
   "metadata": {},
   "outputs": [],
   "source": [
    "from gmip.dp_sgd import RandomSubsetDataset\n",
    "from gmip.glir import ClassificationModelGradients, CheckpointListTracer\n",
    "from gmip.utils import ListDataLoader\n",
    "## Set parameters for the gree datasets.\n",
    "\n",
    "def run_glir_multi_step(params_use, models_use = 2, steps_use = 1):\n",
    "    \"\"\"\n",
    "        params_use: The attack and dataset paramters. See next cell for an example for the structure.\n",
    "        models_use: Number of models in the name scheme to load. Make sure the corresponding files exist.\n",
    "        stept_use: How many SGD steps to consider for the attack\n",
    "    \"\"\"\n",
    "    # Load a model and set up the tracing.\n",
    "    tot_scores_list = []\n",
    "    criterion = torch.nn.CrossEntropyLoss().to(use_device)\n",
    "    for trained_model in range(models_use):\n",
    "        # Create a model\n",
    "        opacus_model, weight_load = params_use[\"model_load\"]()\n",
    "        opacus_model = opacus_model.to(use_device)\n",
    "        \n",
    "\n",
    "        print(\"Loading model no. \", trained_model)\n",
    "        # Reset to a past training set that is loaded from a logfile\n",
    "        tracer = CheckpointListTracer(f\"{params_use['modelprefix']}{trained_model}.pt\", weight_load)\n",
    "        #tracer.update_model_to_next_step(opacus_model)\n",
    "\n",
    "        train_point_idx = tracer.get_used_sample_idx()\n",
    "        n_in_out_points = len(train_point_idx)\n",
    "        print(\"Number of train samples\", n_in_out_points)\n",
    "\n",
    "        # Create loaders for query points, background points, etc.\n",
    "        # Background dataset: rest of the training data that was not used for test points\n",
    "        val_dataset = RandomSubsetDataset(params_use[\"data_train\"], subsample_ratio=1.0-(n_in_out_points/len(params_use[\"data_train\"])))\n",
    "        all_samples = torch.ones(len(params_use[\"data_train\"]))\n",
    "        all_samples[train_point_idx]=0 # set the used indices to zero.\n",
    "        val_dataset.sample_idx = torch.where(all_samples==1)[0]\n",
    "        background_loader = torch.utils.data.DataLoader(val_dataset, batch_size=batch_size, shuffle=False, num_workers=4)\n",
    "\n",
    "        ## Setup a trainpoints loader\n",
    "        in_train_dataset = RandomSubsetDataset(params_use[\"data_train\"], subsample_ratio=n_in_out_points/len(params_use[\"data_train\"]))\n",
    "        in_train_dataset.sample_idx = train_point_idx\n",
    "        base_trainloader = torch.utils.data.DataLoader(in_train_dataset, batch_size=batch_size, shuffle=False, num_workers=4)\n",
    "\n",
    "        ## Setup loader of test points\n",
    "        base_testloader = torch.utils.data.DataLoader(params_use[\"data_test\"], batch_size=batch_size, shuffle=False, num_workers=4)\n",
    "\n",
    "        train_test_loader = ListDataLoader(base_trainloader, base_testloader)\n",
    "\n",
    "        gradient_comp = ClassificationModelGradients(opacus_model, criterion, cutoff_threshold = params_use[\"c\"], device=use_device)\n",
    "        attack = GLiRAttack(background_loader, gradient_comp, tracer, params_use[\"d\"], params_use[\"n\"])\n",
    "        out_scores = attack.compute_glir_attack_scores_w_loader(train_test_loader, n_load=2*n_in_out_points, n_steps=steps_use)\n",
    "        labels = torch.cat((torch.ones(n_in_out_points), torch.zeros(n_in_out_points)))\n",
    "        tot_scores_list.append((out_scores, labels))\n",
    "    return tot_scores_list"
   ]
  },
  {
   "cell_type": "code",
   "execution_count": 63,
   "id": "e093a613-9e53-42ce-9721-8f92ded497cc",
   "metadata": {},
   "outputs": [],
   "source": [
    "## Define parameters\n",
    "batch_size = 128\n",
    "\n",
    "params_list = {\"cifar10\": {\"data_train\": cifar_train, \"data_test\": cifar_test, \"model_load\": load_cifar10_model,\n",
    "                           \"modelprefix\": \"models/CIFAR10_Cinf_tau0.0_batch500_ep10_resnet56_\", \"n_grad_estimations\": 49500, \"c\": float(\"inf\"),\n",
    "                           \"n\": 500, \"d\": 650},\n",
    "               \"purchase\": {\"data_train\": purchase_train, \"data_test\": purchase_test, \"model_load\": load_purchase_model,\n",
    "                            \"modelprefix\": \"models/purchase_Cinf_tau0.0_batch1970_ep10_\", \"n_grad_estimations\": 53524, \"c\": float(\"inf\"),\n",
    "                           \"n\": 1970, \"d\": 2580},\n",
    "               \"adult\": {\"data_train\": train_data_adult, \"data_test\": test_data_adult, \"model_load\": load_adult_model,\n",
    "                            \"modelprefix\": \"models/adult_Cinf_tau0.0_batch790_ep10_\", \"n_grad_estimations\": 43000, \"c\": float(\"inf\"),\n",
    "                            \"n\": 790, \"d\": 1026}\n",
    "              }"
   ]
  },
  {
   "cell_type": "code",
   "execution_count": 64,
   "id": "edaeff19-a49d-48b0-8c2d-5dd67383d66b",
   "metadata": {},
   "outputs": [],
   "source": [
    "res= torch.load(\"models/CIFAR10_Cinf_tau0.0_batch500_ep10_resnet56_0.pt\")"
   ]
  },
  {
   "cell_type": "code",
   "execution_count": 67,
   "id": "db63c745-573c-41a1-96f8-3899e4227057",
   "metadata": {
    "scrolled": true,
    "tags": []
   },
   "outputs": [
    {
     "name": "stdout",
     "output_type": "stream",
     "text": [
      "Loading model no.  0\n",
      "Number of train samples 500\n",
      "Using sub dataset of size 49500\n",
      "Using sub dataset of size 500\n",
      "None\n",
      "1000\n"
     ]
    },
    {
     "name": "stderr",
     "output_type": "stream",
     "text": [
      "Using cache found in /home/tobiasleemann/.cache/torch/hub/chenyaofo_pytorch-cifar-models_master\n",
      "/home/tobiasleemann/miniconda3/envs/gaussian_mip/lib/python3.10/site-packages/torch/nn/modules/module.py:1344: UserWarning: Using a non-full backward hook when the forward contains multiple autograd Nodes is deprecated and will be removed in future versions. This hook will be missing some grad_input. Please use register_full_backward_hook to get the documented behavior.\n",
      "  warnings.warn(\"Using a non-full backward hook when the forward contains multiple autograd Nodes \"\n"
     ]
    },
    {
     "name": "stdout",
     "output_type": "stream",
     "text": [
      "grads_in torch.Size([1000, 650])\n",
      "grad estimation shape: torch.Size([10000, 650])\n",
      "small_var elements : tensor(0)\n",
      "Inverting Sigma...\n",
      "Loading model no.  1\n",
      "Number of train samples 500\n",
      "Using sub dataset of size 49500\n",
      "Using sub dataset of size 500\n",
      "None\n",
      "1000\n"
     ]
    },
    {
     "name": "stderr",
     "output_type": "stream",
     "text": [
      "Using cache found in /home/tobiasleemann/.cache/torch/hub/chenyaofo_pytorch-cifar-models_master\n"
     ]
    },
    {
     "name": "stdout",
     "output_type": "stream",
     "text": [
      "grads_in torch.Size([1000, 650])\n",
      "grad estimation shape: torch.Size([10000, 650])\n",
      "small_var elements : tensor(0)\n",
      "Inverting Sigma...\n",
      "Loading model no.  2\n",
      "Number of train samples 500\n",
      "Using sub dataset of size 49500\n",
      "Using sub dataset of size 500\n",
      "None\n",
      "1000\n"
     ]
    },
    {
     "name": "stderr",
     "output_type": "stream",
     "text": [
      "Using cache found in /home/tobiasleemann/.cache/torch/hub/chenyaofo_pytorch-cifar-models_master\n"
     ]
    },
    {
     "name": "stdout",
     "output_type": "stream",
     "text": [
      "grads_in torch.Size([1000, 650])\n",
      "grad estimation shape: torch.Size([10000, 650])\n",
      "small_var elements : tensor(0)\n",
      "Inverting Sigma...\n"
     ]
    },
    {
     "name": "stderr",
     "output_type": "stream",
     "text": [
      "Using cache found in /home/tobiasleemann/.cache/torch/hub/chenyaofo_pytorch-cifar-models_master\n"
     ]
    },
    {
     "name": "stdout",
     "output_type": "stream",
     "text": [
      "Loading model no.  3\n",
      "Number of train samples 500\n",
      "Using sub dataset of size 49500\n",
      "Using sub dataset of size 500\n",
      "None\n",
      "1000\n",
      "grads_in torch.Size([1000, 650])\n",
      "grad estimation shape: torch.Size([10000, 650])\n",
      "small_var elements : tensor(0)\n",
      "Inverting Sigma...\n",
      "Loading model no.  4\n",
      "Number of train samples 500\n",
      "Using sub dataset of size 49500\n",
      "Using sub dataset of size 500\n",
      "None\n",
      "1000\n"
     ]
    },
    {
     "name": "stderr",
     "output_type": "stream",
     "text": [
      "Using cache found in /home/tobiasleemann/.cache/torch/hub/chenyaofo_pytorch-cifar-models_master\n"
     ]
    },
    {
     "name": "stdout",
     "output_type": "stream",
     "text": [
      "grads_in torch.Size([1000, 650])\n",
      "grad estimation shape: torch.Size([10000, 650])\n",
      "small_var elements : tensor(0)\n",
      "Inverting Sigma...\n",
      "Loading model no.  0\n",
      "Number of train samples 1970\n",
      "Using sub dataset of size 53524\n",
      "Using sub dataset of size 1970\n",
      "None\n",
      "3940\n"
     ]
    },
    {
     "name": "stderr",
     "output_type": "stream",
     "text": [
      "/home/tobiasleemann/miniconda3/envs/gaussian_mip/lib/python3.10/site-packages/torch/nn/modules/module.py:1344: UserWarning: Using a non-full backward hook when the forward contains multiple autograd Nodes is deprecated and will be removed in future versions. This hook will be missing some grad_input. Please use register_full_backward_hook to get the documented behavior.\n",
      "  warnings.warn(\"Using a non-full backward hook when the forward contains multiple autograd Nodes \"\n"
     ]
    },
    {
     "name": "stdout",
     "output_type": "stream",
     "text": [
      "grads_in torch.Size([3940, 2580])\n",
      "grad estimation shape: torch.Size([10000, 2580])\n",
      "small_var elements : tensor(0)\n",
      "Inverting Sigma...\n",
      "Loading model no.  1\n",
      "Number of train samples 1970\n",
      "Using sub dataset of size 53524\n",
      "Using sub dataset of size 1970\n",
      "None\n",
      "3940\n",
      "grads_in torch.Size([3940, 2580])\n",
      "grad estimation shape: torch.Size([10000, 2580])\n",
      "small_var elements : tensor(0)\n",
      "Inverting Sigma...\n",
      "Loading model no.  2\n",
      "Number of train samples 1970\n",
      "Using sub dataset of size 53524\n",
      "Using sub dataset of size 1970\n",
      "None\n",
      "3940\n",
      "grads_in torch.Size([3940, 2580])\n",
      "grad estimation shape: torch.Size([10000, 2580])\n",
      "small_var elements : tensor(0)\n",
      "Inverting Sigma...\n",
      "Loading model no.  3\n",
      "Number of train samples 1970\n",
      "Using sub dataset of size 53524\n",
      "Using sub dataset of size 1970\n",
      "None\n",
      "3940\n",
      "grads_in torch.Size([3940, 2580])\n",
      "grad estimation shape: torch.Size([10000, 2580])\n",
      "small_var elements : tensor(0)\n",
      "Inverting Sigma...\n",
      "Loading model no.  4\n",
      "Number of train samples 1970\n",
      "Using sub dataset of size 53524\n",
      "Using sub dataset of size 1970\n",
      "None\n",
      "3940\n",
      "grads_in torch.Size([3940, 2580])\n",
      "grad estimation shape: torch.Size([10000, 2580])\n",
      "small_var elements : tensor(0)\n",
      "Inverting Sigma...\n",
      "Loading model no.  0\n",
      "Number of train samples 790\n",
      "Using sub dataset of size 43052\n",
      "Using sub dataset of size 790\n",
      "None\n",
      "1580\n"
     ]
    },
    {
     "name": "stderr",
     "output_type": "stream",
     "text": [
      "/home/tobiasleemann/miniconda3/envs/gaussian_mip/lib/python3.10/site-packages/torch/nn/modules/module.py:1344: UserWarning: Using a non-full backward hook when the forward contains multiple autograd Nodes is deprecated and will be removed in future versions. This hook will be missing some grad_input. Please use register_full_backward_hook to get the documented behavior.\n",
      "  warnings.warn(\"Using a non-full backward hook when the forward contains multiple autograd Nodes \"\n"
     ]
    },
    {
     "name": "stdout",
     "output_type": "stream",
     "text": [
      "grads_in torch.Size([1580, 1026])\n",
      "grad estimation shape: torch.Size([10000, 1026])\n",
      "small_var elements : tensor(0)\n",
      "Inverting Sigma...\n",
      "Loading model no.  1\n",
      "Number of train samples 790\n",
      "Using sub dataset of size 43052\n",
      "Using sub dataset of size 790\n",
      "None\n",
      "1580\n",
      "grads_in torch.Size([1580, 1026])\n",
      "grad estimation shape: torch.Size([10000, 1026])\n",
      "small_var elements : tensor(0)\n",
      "Inverting Sigma...\n",
      "Loading model no.  2\n",
      "Number of train samples 790\n",
      "Using sub dataset of size 43052\n",
      "Using sub dataset of size 790\n",
      "None\n",
      "1580\n",
      "grads_in torch.Size([1580, 1026])\n",
      "grad estimation shape: torch.Size([10000, 1026])\n",
      "small_var elements : tensor(0)\n",
      "Inverting Sigma...\n",
      "Loading model no.  3\n",
      "Number of train samples 790\n",
      "Using sub dataset of size 43052\n",
      "Using sub dataset of size 790\n",
      "None\n",
      "1580\n",
      "grads_in torch.Size([1580, 1026])\n",
      "grad estimation shape: torch.Size([10000, 1026])\n",
      "small_var elements : tensor(0)\n",
      "Inverting Sigma...\n",
      "Loading model no.  4\n",
      "Number of train samples 790\n",
      "Using sub dataset of size 43052\n",
      "Using sub dataset of size 790\n",
      "None\n",
      "1580\n",
      "grads_in torch.Size([1580, 1026])\n",
      "grad estimation shape: torch.Size([10000, 1026])\n",
      "small_var elements : tensor(0)\n",
      "Inverting Sigma...\n"
     ]
    }
   ],
   "source": [
    "## Run the attacks on the model\n",
    "fs_use = np.linspace(0,1,100)\n",
    "ts_rates_all = {}\n",
    "for dset in [\"cifar10\", \"purchase\", \"adult\"]:\n",
    "    scores_list = run_glir_multi_step(params_list[dset], models_use = 5, steps_use = 1)\n",
    "    ts_rates_all[dset] = interpolate_tprs(fs_use, scores_list)"
   ]
  },
  {
   "cell_type": "markdown",
   "id": "c3d0160d-09e7-4396-ada6-6fbbf8e70953",
   "metadata": {},
   "source": [
    "## Plot results"
   ]
  },
  {
   "cell_type": "code",
   "execution_count": 1,
   "id": "82539a01-5139-4d6b-96ab-19e2469d225e",
   "metadata": {},
   "outputs": [
    {
     "ename": "NameError",
     "evalue": "name 'ts_rates_all' is not defined",
     "output_type": "error",
     "traceback": [
      "\u001b[0;31m---------------------------------------------------------------------------\u001b[0m",
      "\u001b[0;31mNameError\u001b[0m                                 Traceback (most recent call last)",
      "\u001b[1;32m/Users/yarkineren/hiwi_projects/new/gaussian_mip/notebooks/GLiRAttack.ipynb Cell 29\u001b[0m line \u001b[0;36m2\n\u001b[1;32m      <a href='vscode-notebook-cell:/Users/yarkineren/hiwi_projects/new/gaussian_mip/notebooks/GLiRAttack.ipynb#X40sZmlsZQ%3D%3D?line=0'>1</a>\u001b[0m colors \u001b[39m=\u001b[39m [\u001b[39m\"\u001b[39m\u001b[39mg\u001b[39m\u001b[39m\"\u001b[39m, \u001b[39m\"\u001b[39m\u001b[39mm\u001b[39m\u001b[39m\"\u001b[39m, \u001b[39m\"\u001b[39m\u001b[39mr\u001b[39m\u001b[39m\"\u001b[39m]\n\u001b[0;32m----> <a href='vscode-notebook-cell:/Users/yarkineren/hiwi_projects/new/gaussian_mip/notebooks/GLiRAttack.ipynb#X40sZmlsZQ%3D%3D?line=1'>2</a>\u001b[0m \u001b[39mfor\u001b[39;00m setup_use, color_use \u001b[39min\u001b[39;00m \u001b[39mzip\u001b[39m(ts_rates_all\u001b[39m.\u001b[39mkeys(), colors):\n\u001b[1;32m      <a href='vscode-notebook-cell:/Users/yarkineren/hiwi_projects/new/gaussian_mip/notebooks/GLiRAttack.ipynb#X40sZmlsZQ%3D%3D?line=2'>3</a>\u001b[0m     mean_rnd \u001b[39m=\u001b[39m np\u001b[39m.\u001b[39mmean(ts_rates_all[setup_use], axis\u001b[39m=\u001b[39m\u001b[39m0\u001b[39m)\n\u001b[1;32m      <a href='vscode-notebook-cell:/Users/yarkineren/hiwi_projects/new/gaussian_mip/notebooks/GLiRAttack.ipynb#X40sZmlsZQ%3D%3D?line=3'>4</a>\u001b[0m     mean_rnd_std \u001b[39m=\u001b[39m np\u001b[39m.\u001b[39mstd(ts_rates_all[setup_use], axis\u001b[39m=\u001b[39m\u001b[39m0\u001b[39m) \u001b[39m# Standard error\u001b[39;00m\n",
      "\u001b[0;31mNameError\u001b[0m: name 'ts_rates_all' is not defined"
     ]
    }
   ],
   "source": [
    "colors = [\"g\", \"m\", \"r\"]\n",
    "for setup_use, color_use in zip(ts_rates_all.keys(), colors):\n",
    "    mean_rnd = np.mean(ts_rates_all[setup_use], axis=0)\n",
    "    mean_rnd_std = np.std(ts_rates_alleneccceukjcergjjuehehhvudetkjnhenhcugdjjtkie\n",
    "                          [setup_use], axis=0) # Standard error\n",
    "    plt.fill_between(fs_use, mean_rnd-mean_rnd_std, mean_rnd+mean_rnd_std, color=color_use, alpha = 0.1)\n",
    "    plt.plot(fs_use, mean_rnd, label = f\"{setup_use}\", color=color_use)  \n",
    "\n",
    "plt.plot(fs_use, fs_use, \"--k\", linewidth=2)\n",
    "\n",
    "plt.plot(fs_use, analytical_tpr(fs_use, 1.14), \"--\", color=\"tab:blue\", label = \"analytical\\n($\\mu=1.14$)\", linewidth=2)\n",
    "plt.ylabel(\"TPR\")\n",
    "plt.xlabel(\"FPR\")\n",
    "plt.legend(loc=\"lower right\")\n",
    "plt.grid(color='0.6')\n",
    "plt.gcf().set_size_inches(4.0,3.0)\n",
    "plt.tight_layout()"
   ]
  },
  {
   "cell_type": "markdown",
   "id": "fe976052-3d69-4440-a608-ed91636ce385",
   "metadata": {},
   "source": [
    "## 3. Real Gradients, 5 Steps"
   ]
  },
  {
   "cell_type": "code",
   "execution_count": 24,
   "id": "30b67852-733e-4595-a267-719ff985e2fc",
   "metadata": {
    "scrolled": true,
    "tags": []
   },
   "outputs": [
    {
     "name": "stderr",
     "output_type": "stream",
     "text": [
      "Using cache found in /Users/yarkineren/.cache/torch/hub/chenyaofo_pytorch-cifar-models_master\n"
     ]
    },
    {
     "name": "stdout",
     "output_type": "stream",
     "text": [
      "Loading model no.  0\n",
      "Number of train samples 500\n",
      "Using sub dataset of size 49500\n",
      "Using sub dataset of size 500\n"
     ]
    },
    {
     "name": "stderr",
     "output_type": "stream",
     "text": [
      "/Users/yarkineren/anaconda3/envs/gaussian_mip2/lib/python3.10/site-packages/torch/nn/modules/module.py:1344: UserWarning: Using a non-full backward hook when the forward contains multiple autograd Nodes is deprecated and will be removed in future versions. This hook will be missing some grad_input. Please use register_full_backward_hook to get the documented behavior.\n",
      "  warnings.warn(\"Using a non-full backward hook when the forward contains multiple autograd Nodes \"\n"
     ]
    },
    {
     "name": "stdout",
     "output_type": "stream",
     "text": [
      "Inverting Sigma...\n",
      "Inverting Sigma...\n",
      "Inverting Sigma...\n",
      "Inverting Sigma...\n",
      "Inverting Sigma...\n",
      "Loading model no.  1\n",
      "Number of train samples 500\n",
      "Using sub dataset of size 49500\n",
      "Using sub dataset of size 500\n"
     ]
    },
    {
     "name": "stderr",
     "output_type": "stream",
     "text": [
      "Using cache found in /Users/yarkineren/.cache/torch/hub/chenyaofo_pytorch-cifar-models_master\n"
     ]
    },
    {
     "name": "stdout",
     "output_type": "stream",
     "text": [
      "Inverting Sigma...\n",
      "Inverting Sigma...\n",
      "Inverting Sigma...\n",
      "Inverting Sigma...\n",
      "Inverting Sigma...\n",
      "Loading model no.  2\n",
      "Number of train samples 500\n",
      "Using sub dataset of size 49500\n",
      "Using sub dataset of size 500\n"
     ]
    },
    {
     "name": "stderr",
     "output_type": "stream",
     "text": [
      "Using cache found in /Users/yarkineren/.cache/torch/hub/chenyaofo_pytorch-cifar-models_master\n"
     ]
    },
    {
     "name": "stdout",
     "output_type": "stream",
     "text": [
      "Inverting Sigma...\n",
      "Inverting Sigma...\n",
      "Inverting Sigma...\n",
      "Inverting Sigma...\n",
      "Inverting Sigma...\n",
      "Loading model no.  3\n",
      "Number of train samples 500\n",
      "Using sub dataset of size 49500\n",
      "Using sub dataset of size 500\n"
     ]
    },
    {
     "name": "stderr",
     "output_type": "stream",
     "text": [
      "Using cache found in /Users/yarkineren/.cache/torch/hub/chenyaofo_pytorch-cifar-models_master\n"
     ]
    },
    {
     "name": "stdout",
     "output_type": "stream",
     "text": [
      "Inverting Sigma...\n",
      "Inverting Sigma...\n",
      "Inverting Sigma...\n",
      "Inverting Sigma...\n",
      "Inverting Sigma...\n",
      "Loading model no.  4\n",
      "Number of train samples 500\n",
      "Using sub dataset of size 49500\n",
      "Using sub dataset of size 500\n"
     ]
    },
    {
     "name": "stderr",
     "output_type": "stream",
     "text": [
      "Using cache found in /Users/yarkineren/.cache/torch/hub/chenyaofo_pytorch-cifar-models_master\n"
     ]
    },
    {
     "name": "stdout",
     "output_type": "stream",
     "text": [
      "Inverting Sigma...\n",
      "Inverting Sigma...\n",
      "Inverting Sigma...\n",
      "Inverting Sigma...\n",
      "Inverting Sigma...\n",
      "Loading model no.  0\n",
      "Number of train samples 1970\n",
      "Using sub dataset of size 53524\n",
      "Using sub dataset of size 1970\n"
     ]
    },
    {
     "name": "stderr",
     "output_type": "stream",
     "text": [
      "/Users/yarkineren/anaconda3/envs/gaussian_mip2/lib/python3.10/site-packages/torch/nn/modules/module.py:1344: UserWarning: Using a non-full backward hook when the forward contains multiple autograd Nodes is deprecated and will be removed in future versions. This hook will be missing some grad_input. Please use register_full_backward_hook to get the documented behavior.\n",
      "  warnings.warn(\"Using a non-full backward hook when the forward contains multiple autograd Nodes \"\n"
     ]
    },
    {
     "name": "stdout",
     "output_type": "stream",
     "text": [
      "Inverting Sigma...\n",
      "Inverting Sigma...\n",
      "Inverting Sigma...\n",
      "Inverting Sigma...\n",
      "Inverting Sigma...\n",
      "Loading model no.  1\n",
      "Number of train samples 1970\n",
      "Using sub dataset of size 53524\n",
      "Using sub dataset of size 1970\n",
      "Inverting Sigma...\n",
      "Inverting Sigma...\n",
      "Inverting Sigma...\n",
      "Inverting Sigma...\n",
      "Inverting Sigma...\n",
      "Loading model no.  2\n",
      "Number of train samples 1970\n",
      "Using sub dataset of size 53524\n",
      "Using sub dataset of size 1970\n",
      "Inverting Sigma...\n",
      "Inverting Sigma...\n",
      "Inverting Sigma...\n",
      "Inverting Sigma...\n",
      "Inverting Sigma...\n",
      "Loading model no.  3\n",
      "Number of train samples 1970\n",
      "Using sub dataset of size 53524\n",
      "Using sub dataset of size 1970\n",
      "Inverting Sigma...\n",
      "Inverting Sigma...\n",
      "Inverting Sigma...\n",
      "Inverting Sigma...\n",
      "Inverting Sigma...\n",
      "Loading model no.  4\n",
      "Number of train samples 1970\n",
      "Using sub dataset of size 53524\n",
      "Using sub dataset of size 1970\n",
      "Inverting Sigma...\n",
      "Inverting Sigma...\n",
      "Inverting Sigma...\n",
      "Inverting Sigma...\n",
      "Inverting Sigma...\n",
      "Loading model no.  0\n",
      "Number of train samples 790\n",
      "Using sub dataset of size 43052\n",
      "Using sub dataset of size 790\n"
     ]
    },
    {
     "name": "stderr",
     "output_type": "stream",
     "text": [
      "/Users/yarkineren/anaconda3/envs/gaussian_mip2/lib/python3.10/site-packages/torch/nn/modules/module.py:1344: UserWarning: Using a non-full backward hook when the forward contains multiple autograd Nodes is deprecated and will be removed in future versions. This hook will be missing some grad_input. Please use register_full_backward_hook to get the documented behavior.\n",
      "  warnings.warn(\"Using a non-full backward hook when the forward contains multiple autograd Nodes \"\n"
     ]
    },
    {
     "name": "stdout",
     "output_type": "stream",
     "text": [
      "Inverting Sigma...\n",
      "Inverting Sigma...\n",
      "Inverting Sigma...\n",
      "Inverting Sigma...\n",
      "Inverting Sigma...\n",
      "Loading model no.  1\n",
      "Number of train samples 790\n",
      "Using sub dataset of size 43052\n",
      "Using sub dataset of size 790\n",
      "Inverting Sigma...\n",
      "Inverting Sigma...\n",
      "Inverting Sigma...\n",
      "Inverting Sigma...\n",
      "Inverting Sigma...\n",
      "Loading model no.  2\n",
      "Number of train samples 790\n",
      "Using sub dataset of size 43052\n",
      "Using sub dataset of size 790\n",
      "Inverting Sigma...\n",
      "Inverting Sigma...\n",
      "Inverting Sigma...\n",
      "Inverting Sigma...\n",
      "Inverting Sigma...\n",
      "Loading model no.  3\n",
      "Number of train samples 790\n",
      "Using sub dataset of size 43052\n",
      "Using sub dataset of size 790\n",
      "Inverting Sigma...\n",
      "Inverting Sigma...\n",
      "Inverting Sigma...\n",
      "Inverting Sigma...\n",
      "Inverting Sigma...\n",
      "Loading model no.  4\n",
      "Number of train samples 790\n",
      "Using sub dataset of size 43052\n",
      "Using sub dataset of size 790\n",
      "Inverting Sigma...\n",
      "Inverting Sigma...\n",
      "Inverting Sigma...\n",
      "Inverting Sigma...\n",
      "Inverting Sigma...\n"
     ]
    }
   ],
   "source": [
    "## Run the attacks on the model\n",
    "fs_use = np.linspace(0,1,100)\n",
    "ts_rates_all5 = {}\n",
    "\n",
    "for dset in [\"cifar10\", \"purchase\", \"adult\"]:\n",
    "    scores_list = run_glir_multi_step(params_list[dset], models_use = 5, steps_use = 5)\n",
    "    ts_rates_all5[dset] = interpolate_tprs(fs_use, scores_list)"
   ]
  },
  {
   "cell_type": "code",
   "execution_count": 33,
   "id": "955bb892-2e4d-4d59-826f-1d2e845e711a",
   "metadata": {},
   "outputs": [
    {
     "data": {
      "image/png": "[encoded data removed]",
      "text/plain": [
       "<Figure size 400x300 with 1 Axes>"
      ]
     },
     "metadata": {},
     "output_type": "display_data"
    }
   ],
   "source": [
    "#ts_rates_all = torch.load(\"figures/grad_attack_rates1.pt\")\n",
    "colors = [\"g\", \"m\", \"r\"]\n",
    "for setup_use, color_use in zip(ts_rates_all5.keys(), colors):\n",
    "    mean_rnd = np.mean(ts_rates_all5[setup_use], axis=0)\n",
    "    mean_rnd_std = np.std(ts_rates_all5[setup_use], axis=0) # Standard error\n",
    "    plt.fill_between(fs_use, mean_rnd-mean_rnd_std, mean_rnd+mean_rnd_std, color=color_use, alpha = 0.1)\n",
    "    plt.plot(fs_use, mean_rnd, label = f\"{setup_use}\", color=color_use)  \n",
    "\n",
    "plt.plot(fs_use, fs_use, \"--k\", linewidth=2)\n",
    "\n",
    "plt.plot(fs_use, analytical_tpr(fs_use, 2.54), \"--\", color=\"tab:blue\", label = \"analytical\\n($\\mu=2.54$)\", linewidth=2)\n",
    "plt.ylabel(\"TPR\")\n",
    "plt.xlabel(\"FPR\")\n",
    "plt.legend(loc=\"lower right\")\n",
    "plt.grid(color='0.6')\n",
    "plt.gcf().set_size_inches(4.0,3.0)\n",
    "plt.tight_layout()"
   ]
  },
  {
   "cell_type": "markdown",
   "id": "46b4b9fd-782e-47ff-97cc-dd75a3dd1013",
   "metadata": {},
   "source": [
    "## Visualize improvement on 1 vs. 5 steps"
   ]
  },
  {
   "cell_type": "markdown",
   "id": "d0c43131-f4f8-4dc7-bc4e-9cb93f024ebe",
   "metadata": {},
   "source": [
    "For instance on CIFAR-10, we can observe a slight improvement in attack performance using 5 step instead of a single step. However, this improvement is much weaker than predicted by out theory as the individual attacks are not independent: The gradients and the model paramters only change very marginally, results in the attacker having barely more information available, even if they perform more steps."
   ]
  },
  {
   "cell_type": "code",
   "execution_count": 32,
   "id": "4013d30d-a587-4d9d-88ff-34e02ffcbd3f",
   "metadata": {},
   "outputs": [
    {
     "data": {
      "image/png": "[encoded data removed]",
      "text/plain": [
       "<Figure size 400x300 with 1 Axes>"
      ]
     },
     "metadata": {},
     "output_type": "display_data"
    }
   ],
   "source": [
    "#ts_rates_all = torch.load(\"figures/grad_attack_rates1.pt\")\n",
    "setup_use = \"cifar10\"\n",
    "color_use = \"g\"\n",
    "\n",
    "for dataframe, linestyle, legend_name in [(ts_rates_all, \"-\", \"1 step\"), (ts_rates_all5, \"--\", \"5 step\")]:\n",
    "    mean_rnd = np.mean(dataframe[setup_use], axis=0)\n",
    "    mean_rnd_std = np.std(dataframe[setup_use], axis=0) # Standard error\n",
    "    plt.fill_between(fs_use, mean_rnd-mean_rnd_std, mean_rnd+mean_rnd_std, color=color_use, alpha = 0.1)\n",
    "    plt.plot(fs_use, mean_rnd, label = legend_name, color=color_use, linestyle=linestyle)  \n",
    "\n",
    "plt.plot(fs_use, fs_use, \"--k\", linewidth=2)\n",
    "\n",
    "plt.ylabel(\"TPR\")\n",
    "plt.xlabel(\"FPR\")\n",
    "plt.legend(loc=\"lower right\")\n",
    "plt.grid(color='0.6')\n",
    "plt.gcf().set_size_inches(4.0,3.0)\n",
    "plt.tight_layout()"
   ]
  },
  {
   "cell_type": "code",
   "execution_count": null,
   "id": "4bda6383-cfd5-4e25-85d0-a3f07e4d4628",
   "metadata": {},
   "outputs": [],
   "source": []
  }
 ],
 "metadata": {
  "kernelspec": {
   "display_name": "gaussian_mip",
   "language": "python",
   "name": "gaussian_mip"
  },
  "language_info": {
   "codemirror_mode": {
    "name": "ipython",
    "version": 3
   },
   "file_extension": ".py",
   "mimetype": "text/x-python",
   "name": "python",
   "nbconvert_exporter": "python",
   "pygments_lexer": "ipython3",
   "version": "3.10.10"
  }
 },
 "nbformat": 4,
 "nbformat_minor": 5
}
