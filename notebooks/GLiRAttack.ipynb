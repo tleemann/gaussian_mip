{
 "cells": [
  {
   "cell_type": "markdown",
   "id": "2ec60439-6cb4-4b27-9ad7-89cb732b7eb3",
   "metadata": {},
   "source": [
    "## Implement the Gradient Log-Likelihood Attack (GLiR) on the trained models"
   ]
  },
  {
   "cell_type": "code",
   "execution_count": 1,
   "id": "56c091c6-35a9-48d3-9915-dd68872155d5",
   "metadata": {},
   "outputs": [],
   "source": [
    "import sys\n",
    "sys.path.append(\"..\")\n",
    "import os\n",
    "os.chdir(\"..\")"
   ]
  },
  {
   "cell_type": "code",
   "execution_count": 2,
   "id": "bddaa22e-ac13-47a5-9b30-f2078b1d6db1",
   "metadata": {
    "tags": []
   },
   "outputs": [],
   "source": [
    "import torchvision\n",
    "import torch\n",
    "import torchvision.transforms as transforms\n",
    "from torchvision import datasets, models\n",
    "\n",
    "from opacus.grad_sample import GradSampleModule\n",
    "import matplotlib.pyplot as plt\n",
    "import matplotlib.pyplot as plt\n",
    "import numpy as np\n",
    "from scipy.stats import norm, ncx2\n",
    "from torch.utils.data import TensorDataset, DataLoader"
   ]
  },
  {
   "cell_type": "code",
   "execution_count": 3,
   "id": "3642fa8c-9f71-428b-9207-cb469acc026f",
   "metadata": {},
   "outputs": [],
   "source": [
    "%load_ext autoreload\n",
    "%autoreload 2"
   ]
  },
  {
   "cell_type": "markdown",
   "id": "5062c274-b8f5-43d2-9755-7e65a5497a2c",
   "metadata": {},
   "source": [
    "## 1. Simulated Gradients"
   ]
  },
  {
   "cell_type": "markdown",
   "id": "a6377fcd-6d7c-4e64-a31f-a563de07e522",
   "metadata": {},
   "source": [
    "For our first experiment, we use a simulated gradient distribution (Figure 2a of the paper). We instantiate a simualted model through the ```SimulatedGradientTracer``` class."
   ]
  },
  {
   "cell_type": "code",
   "execution_count": 4,
   "id": "effa5afb-f19f-41bb-87a9-0b94f76b82eb",
   "metadata": {},
   "outputs": [],
   "source": [
    "from gmip.glir import GaussianDataLoader\n",
    "from gmip.glir import SimulatedGradientTracer, DirectGradients\n",
    "from gmip.glir import GLiRAttack\n",
    "from gmip.dp_sgd import recursive_fix\n",
    "from gmip.utils import analytical_tpr"
   ]
  },
  {
   "cell_type": "code",
   "execution_count": 5,
   "id": "569ec60d-4274-4f34-bb90-4d21086f9d82",
   "metadata": {},
   "outputs": [],
   "source": [
    "fs = np.linspace(0,1,100)\n",
    "fs_log = np.exp(np.linspace(-12, 0, 100))\n",
    "from scipy import interpolate\n",
    "from sklearn.metrics import roc_curve\n",
    "def interpolate_tprs(fprs, stats_lists):\n",
    "    ts_rates = []\n",
    "    for run in stats_lists:\n",
    "        fs, ts, thresholds = roc_curve(run[1], -run[0], pos_label=1)\n",
    "        f = interpolate.interp1d(fs, ts, fill_value=0)\n",
    "        ts_rates.append(f(fprs))\n",
    "    ts_rates = np.stack(ts_rates)\n",
    "    return ts_rates"
   ]
  },
  {
   "cell_type": "code",
   "execution_count": 6,
   "id": "4b47c3c7-c088-4a6b-ba3e-20206e183b90",
   "metadata": {},
   "outputs": [
    {
     "name": "stdout",
     "output_type": "stream",
     "text": [
      "Executing  5 runs for cifar10\n",
      "Executing  5 runs for cifar10\n",
      "Executing  5 runs for cifar10\n",
      "Executing  5 runs for cifar10\n",
      "Executing  5 runs for cifar10\n",
      "Executing  2 runs for purchase\n",
      "Executing  2 runs for purchase\n",
      "Executing  2 runs for purchase\n",
      "Executing  2 runs for purchase\n",
      "Executing  2 runs for purchase\n",
      "Executing  3 runs for adult\n",
      "Executing  3 runs for adult\n",
      "Executing  3 runs for adult\n",
      "Executing  3 runs for adult\n",
      "Executing  3 runs for adult\n"
     ]
    }
   ],
   "source": [
    "#params = {  #(d, n_avg) tuples\n",
    "n_reps = 5\n",
    "fs_use = np.linspace(0,1,100)\n",
    "#params = {\"purchase\": (2560, 1970), \"adult\": (1026, 970), \"cifar10\": (650, 500)}\n",
    "params = {\"cifar10\": (650, 500), \"purchase\": (2560, 1970), \"adult\": (1026, 970), \"cifar10\": (650, 500)}\n",
    "ts_rates_all = {}\n",
    "gradient_interface = DirectGradients()\n",
    "for setup_name, (d, n_avg) in params.items():\n",
    "    scores = [] # attack scores\n",
    "    labels = [] # sample labels (in or out of train set)\n",
    "    # To plot the curves until a FPR of 10^{-14] we need roughly 20k points.\n",
    "    n_runs = n_runs = ((2000//n_avg)+1)\n",
    "    for j in range(n_reps):\n",
    "        rep_list = []\n",
    "        print(\"Executing \", n_runs, \"runs for\", setup_name)\n",
    "        for i in range(n_runs):\n",
    "            out_scores = None\n",
    "            while out_scores is None or np.isnan(out_scores).any(): # Catch NaN values due to underflow\n",
    "                s = torch.randn(d,d)\n",
    "                sigma = s.t() @ s\n",
    "                gdl = GaussianDataLoader(mu = torch.zeros(d), Sigma=sigma, batch_size=n_avg)\n",
    "                gdl_iter = iter(gdl)\n",
    "                in_points = next(gdl_iter) # Points in the dataset\n",
    "                out_points = next(gdl_iter) # Test points\n",
    "                v_mean = torch.mean(in_points, axis=0)\n",
    "                input_samples = torch.cat((in_points, out_points), axis=0)\n",
    "                sim_tr = SimulatedGradientTracer(v_mean)\n",
    "                attack = GLiRAttack(gdl, gradient_interface, sim_tr, d, n_avg)\n",
    "                out_scores = attack.compute_glir_attack_scores(input_samples, batch_size=n_avg)\n",
    "            scores.append(out_scores)\n",
    "            labels.append(torch.ones(n_avg))\n",
    "            labels.append(torch.zeros(n_avg))\n",
    "        all_scores = torch.cat(scores)\n",
    "        all_labels = torch.cat(labels)\n",
    "        rep_list.append((all_scores, all_labels))\n",
    "    ts_rates_all[setup_name] = interpolate_tprs(fs_use, rep_list)"
   ]
  },
  {
   "cell_type": "code",
   "execution_count": 7,
   "id": "0bd3a40b-e44b-47f5-b67e-8c4e2c5b2f91",
   "metadata": {},
   "outputs": [
    {
     "data": {
      "image/png": "[encoded data removed]",
      "text/plain": [
       "<Figure size 300x220 with 1 Axes>"
      ]
     },
     "metadata": {},
     "output_type": "display_data"
    }
   ],
   "source": [
    "#ts_rates_all = torch.load(\"figures/grad_attack_rates1.pt\")\n",
    "colors = [\"g\", \"m\", \"r\"]\n",
    "for setup_use, color_use in zip(ts_rates_all.keys(), colors):\n",
    "    mean_rnd = np.mean(ts_rates_all[setup_use], axis=0)\n",
    "    mean_rnd_std = np.std(ts_rates_all[setup_use], axis=0) # Standard error\n",
    "    plt.fill_between(fs_use, mean_rnd-mean_rnd_std, mean_rnd+mean_rnd_std, color=color_use, alpha = 0.1)\n",
    "    plt.plot(fs_use, mean_rnd, label = f\"{setup_use}\", color=color_use)  \n",
    "\n",
    "plt.plot(fs_use, fs_use, \"--k\", linewidth=2)\n",
    "\n",
    "plt.plot(fs_use, analytical_tpr(fs_use, 1.14), \"--\", color=\"tab:blue\", label = \"analytical\\n($\\mu=1.14$)\", linewidth=2)\n",
    "plt.ylabel(\"TPR\")\n",
    "plt.xlabel(\"FPR\")\n",
    "plt.legend(loc=\"lower right\")\n",
    "plt.grid(color='0.6')\n",
    "plt.gcf().set_size_inches(3.0,2.2)\n",
    "plt.tight_layout()"
   ]
  },
  {
   "cell_type": "markdown",
   "id": "98954adf-8578-465d-a966-bdd013bca846",
   "metadata": {},
   "source": [
    "## 2. Real Gradients"
   ]
  },
  {
   "cell_type": "markdown",
   "id": "33a3d31d-6fd8-4df1-8140-76d72aef46f9",
   "metadata": {},
   "source": [
    "We can now run the attack for real model gradients as shown in Figure 2b of the paper."
   ]
  },
  {
   "cell_type": "markdown",
   "id": "f5b46464-dd77-40b4-a999-997c784d6e98",
   "metadata": {},
   "source": [
    "### Datasets and Loaders"
   ]
  },
  {
   "cell_type": "markdown",
   "id": "f1912e9f-a990-4b7a-9e51-d7a740769927",
   "metadata": {},
   "source": [
    "First, we setup datasets and loaders for each of the 3 datasets used in our work."
   ]
  },
  {
   "cell_type": "code",
   "execution_count": 8,
   "id": "2143920c-f92c-435e-b445-b32bdd469776",
   "metadata": {},
   "outputs": [
    {
     "name": "stdout",
     "output_type": "stream",
     "text": [
      "Files already downloaded and verified\n",
      "Files already downloaded and verified\n"
     ]
    }
   ],
   "source": [
    "# CIFAR 10\n",
    "transform_test = transforms.Compose([transforms.ToTensor(), transforms.Normalize((0.5070, 0.4865, 0.4409), (0.2673, 0.2564, 0.2761))])\n",
    "cifar_train = torchvision.datasets.CIFAR10(root=\"datasets/\", train=True, download=True, transform=transform_test)\n",
    "cifar_test= torchvision.datasets.CIFAR10(root=\"datasets/\", train=False, download=True, transform=transform_test)"
   ]
  },
  {
   "cell_type": "code",
   "execution_count": 9,
   "id": "4501f50a-4e3f-40e8-b54d-8c0e6a679641",
   "metadata": {},
   "outputs": [
    {
     "name": "stdout",
     "output_type": "stream",
     "text": [
      "65494 65494\n"
     ]
    }
   ],
   "source": [
    "# Purchase\n",
    "import pandas as pd\n",
    "import torch.utils.data as data\n",
    "\n",
    "def base_csv_load(dataset):\n",
    "    dataset_path = \"datasets/\"\n",
    "    df = pd.read_csv(f\"{dataset_path}{dataset}/{dataset}.csv\", header=None)\n",
    "    dataset_tensor = torch.tensor(df.values)\n",
    "    labels = dataset_tensor[:, 0].long()\n",
    "    features = dataset_tensor[:, 1:].float()\n",
    "\n",
    "    # normalization\n",
    "    features = (features-features.mean(axis=0))/(features.std(axis=0)+1e-5)\n",
    "    return features, labels\n",
    "\n",
    "dataset = \"purchase\"\n",
    "features, labels = base_csv_load(dataset)\n",
    "# splite in finetune and pretrain dataset\n",
    "_, counts = torch.unique(labels, return_counts=True)\n",
    "freq_ranks = torch.argsort(np.argsort(-counts))\n",
    "#pretrain_dataset = freq_ranks[labels-1] >= 20\n",
    "finetune_dataset = freq_ranks[labels-1] < 20\n",
    "#labels_pretrain = labels.iloc[pretrain_dataset].values\n",
    "#features_pretrain = features.iloc[pretrain_dataset].values\n",
    "finetune_labels = labels[finetune_dataset]\n",
    "finetune_features = features[finetune_dataset]\n",
    "print(len(finetune_features), len(finetune_labels))\n",
    "finetune_labels = freq_ranks[finetune_labels-1] # map labels from 0 -> 19.\n",
    "test_data = 10000\n",
    "x_test_pre, y_test = finetune_features[:test_data].float(),  finetune_labels[:test_data].long()\n",
    "x_train_pre, y_train = finetune_features[test_data:].float(),  finetune_labels[test_data:].long()\n",
    "# Create datasets\n",
    "purchase_train = data.TensorDataset(x_train_pre, y_train)\n",
    "purchase_test = data.TensorDataset(x_test_pre, y_test)"
   ]
  },
  {
   "cell_type": "code",
   "execution_count": 10,
   "id": "5afa8b50-578c-4362-b795-de3a4796c611",
   "metadata": {},
   "outputs": [],
   "source": [
    "## Adult\n",
    "dataset = \"adult\"\n",
    "features, labels = base_csv_load(dataset)\n",
    "\n",
    "test_data = 5000\n",
    "x_test_pre, y_test = features[:test_data].float(),  labels[:test_data].long()\n",
    "x_train_pre, y_train = features[test_data:].float(),  labels[test_data:].long()\n",
    "# Create datasets\n",
    "train_data_adult = data.TensorDataset(x_train_pre, y_train)\n",
    "test_data_adult = data.TensorDataset(x_test_pre, y_test)"
   ]
  },
  {
   "cell_type": "markdown",
   "id": "7be13a52-b671-4c31-a5b9-d7e6015b6619",
   "metadata": {},
   "source": [
    "### Model construction for both datasets with pretrained weights."
   ]
  },
  {
   "cell_type": "code",
   "execution_count": 11,
   "id": "6383135a-b3df-4fdc-a1e1-4f1e488c15ab",
   "metadata": {},
   "outputs": [],
   "source": [
    "from gmip.train_tabular import create_purchase_base, create_adult_base\n",
    "from opacus.grad_sample import GradSampleModule\n",
    "import torch.nn as nn\n",
    "def load_cifar10_model():\n",
    "    arch=\"resnet56\"\n",
    "    use_device = \"cuda:0\"\n",
    "    ## Load empty model\n",
    "    #model = torch.hub.load(\"chenyaofo/pytorch-cifar-models\", \"cifar100_shufflenetv2_x0_5\", pretrained=True)\n",
    "    model = torch.hub.load(\"chenyaofo/pytorch-cifar-models\", f\"cifar100_{arch}\", pretrained=True)\n",
    "    model = model.train()\n",
    "    # some modifications of the model are necessary - replace batch norm layers\n",
    "    recursive_fix(model)\n",
    "    for p in model.parameters():\n",
    "        p.requires_grad_(False)\n",
    "    # adapt last layer to match CIFAR-10 output size\n",
    "    in_feat = model.fc.in_features\n",
    "    model.fc = torch.nn.Linear(in_feat, 10, bias=True)\n",
    "    return GradSampleModule(model, loss_reduction = \"mean\"), lambda model, state: model.fc.load_state_dict(state)\n",
    "\n",
    "def load_purchase_model():\n",
    "    use_device = \"cuda:0\"\n",
    "    model_finetune = create_purchase_base()[0].to(use_device)\n",
    "    model_finetune.load_state_dict(torch.load(\"tabular/tabular_base998.pt\"))\n",
    "    ## Shut off dropout and change last layer.\n",
    "    for p in model_finetune.parameters():\n",
    "        p.requires_grad_(False)\n",
    "    model_finetune[1].p=0.0\n",
    "    model_finetune[4].p=0.0\n",
    "    model_finetune[6] = nn.Linear(128, 20)\n",
    "    return GradSampleModule(model_finetune, loss_reduction = \"mean\"), lambda model, state: model._module[6].load_state_dict(state)\n",
    "\n",
    "def load_adult_model():\n",
    "    use_device = \"cuda:0\"\n",
    "    model_finetune = create_adult_base()[0].to(use_device)\n",
    "    for p in model_finetune.parameters():\n",
    "        p.requires_grad_(False)\n",
    "    infeat = model_finetune[0].out_features\n",
    "    model_finetune[2] = torch.nn.Linear(infeat, 2, bias=True)\n",
    "    return GradSampleModule(model_finetune, loss_reduction = \"mean\"), lambda model, state: model._module.load_state_dict(state)"
   ]
  },
  {
   "cell_type": "markdown",
   "id": "175bea2e-fe4d-466e-8c65-7be09c33a9e4",
   "metadata": {},
   "source": [
    "We first load and attack the models that were trained only for a single step using the corresponding training scripts ``cifar10/train_cifar_trace_grads.py`` or ``tabular/train_tabular.py`` with the tracegrad argument set to true."
   ]
  },
  {
   "cell_type": "code",
   "execution_count": 12,
   "id": "e093a613-9e53-42ce-9721-8f92ded497cc",
   "metadata": {},
   "outputs": [],
   "source": [
    "from gmip.dp_sgd import RandomSubsetDataset\n",
    "from gmip.glir import ClassificationModelGradients, CheckpointListTracer\n",
    "from gmip.utils import ListDataLoader\n",
    "## Set parameters for the gree datasets.\n",
    "params_list = {\"cifar10\": {\"data_train\": cifar_train, \"data_test\": cifar_test, \"model_load\": load_cifar10_model,\n",
    "                           \"modelprefix\": \"models/CIFAR10_Cinf_tau0.0_batch500_ep1_resnet56_\", \"n_grad_estimations\": 49500, \"c\": float(\"inf\"),\n",
    "                           \"n\": 500, \"d\": 650},\n",
    "               \"purchase\": {\"data_train\": purchase_train, \"data_test\": purchase_test, \"model_load\": load_purchase_model,\n",
    "                            \"modelprefix\": \"models/purchase_Cinf_tau0.0_batch1970_ep1_\", \"n_grad_estimations\": 53524, \"c\": float(\"inf\"),\n",
    "                           \"n\": 1970, \"d\": 2580},\n",
    "               \"adult\": {\"data_train\": train_data_adult, \"data_test\": test_data_adult, \"model_load\": load_adult_model,\n",
    "                            \"modelprefix\": \"models/adult_Cinf_tau0.0_batch790_ep1_\", \"n_grad_estimations\": 43000, \"c\": float(\"inf\"),\n",
    "                            \"n\": 970, \"d\": 1026}\n",
    "              }\n",
    "\n",
    "\n",
    "batch_size = 128\n",
    "use_device = \"cuda:0\"\n",
    "    \n",
    "def run_glir_single_step(params_use, models_use = 5):\n",
    "    # Load a model and set up the tracing\n",
    "    tot_scores_list = []\n",
    "    criterion = torch.nn.CrossEntropyLoss().to(use_device)\n",
    "    for trained_model in range(models_use):\n",
    "        # Create a model\n",
    "        opacus_model, weight_load = params_use[\"model_load\"]()\n",
    "        opacus_model = opacus_model.to(use_device)\n",
    "        \n",
    "        print(\"Loading model no. \", trained_model)\n",
    "        # Reset to a past training set that is loaded from a logfile\n",
    "        tracer = CheckpointListTracer(f\"{params_use['modelprefix']}{trained_model}_stepwise.pt\", weight_load)\n",
    "        #tracer.update_model_to_next_step(opacus_model)\n",
    "        \n",
    "        train_point_idx = tracer.get_used_sample_idx()\n",
    "        n_in_out_points = len(train_point_idx)\n",
    "        print(\"Number of train samples\", n_in_out_points)\n",
    "        \n",
    "        # Create loaders for query points, background points, etc.\n",
    "        # Background dataset: rest of the training data that was not used for test points\n",
    "        val_dataset = RandomSubsetDataset(params_use[\"data_train\"], subsample_ratio=1.0-(n_in_out_points/len(params_use[\"data_train\"])))\n",
    "        all_samples = torch.ones(len(params_use[\"data_train\"]))\n",
    "        all_samples[train_point_idx]=0 # set the used indices to zero.\n",
    "        val_dataset.sample_idx = torch.where(all_samples==1)[0]\n",
    "        background_loader = torch.utils.data.DataLoader(val_dataset, batch_size=batch_size, shuffle=False, num_workers=4)\n",
    "        \n",
    "        ## Setup a trainpoints loader\n",
    "        in_train_dataset = RandomSubsetDataset(params_use[\"data_train\"], subsample_ratio=n_in_out_points/len(params_use[\"data_train\"]))\n",
    "        in_train_dataset.sample_idx = train_point_idx\n",
    "        base_trainloader = torch.utils.data.DataLoader(in_train_dataset, batch_size=batch_size, shuffle=False, num_workers=4)\n",
    "        \n",
    "        ## Setup loader of test points\n",
    "        base_testloader = torch.utils.data.DataLoader(params_use[\"data_test\"], batch_size=batch_size, shuffle=False, num_workers=4)\n",
    "        \n",
    "        train_test_loader = ListDataLoader(base_trainloader, base_testloader)\n",
    "        \n",
    "        gradient_comp = ClassificationModelGradients(opacus_model, criterion, cutoff_threshold = params_use[\"c\"], device=use_device)\n",
    "        attack = GLiRAttack(background_loader, gradient_comp, tracer, params_use[\"d\"], params_use[\"n\"])\n",
    "        out_scores = attack.compute_glir_attack_scores_w_loader(train_test_loader, n_load=2*n_in_out_points)\n",
    "        labels = torch.cat((torch.ones(n_in_out_points), torch.zeros(n_in_out_points)))\n",
    "        tot_scores_list.append((out_scores, labels))\n",
    "    return tot_scores_list"
   ]
  },
  {
   "cell_type": "code",
   "execution_count": 13,
   "id": "db63c745-573c-41a1-96f8-3899e4227057",
   "metadata": {
    "scrolled": true,
    "tags": []
   },
   "outputs": [
    {
     "name": "stderr",
     "output_type": "stream",
     "text": [
      "Using cache found in /home/dsar/.cache/torch/hub/chenyaofo_pytorch-cifar-models_master\n"
     ]
    },
    {
     "name": "stdout",
     "output_type": "stream",
     "text": [
      "Loading model no.  0\n",
      "Number of train samples 500\n",
      "Using sub dataset of size 49500\n",
      "Using sub dataset of size 500\n"
     ]
    },
    {
     "name": "stderr",
     "output_type": "stream",
     "text": [
      "/home/dsar/miniconda3/envs/opacus/lib/python3.10/site-packages/torch/nn/modules/module.py:1344: UserWarning: Using a non-full backward hook when the forward contains multiple autograd Nodes is deprecated and will be removed in future versions. This hook will be missing some grad_input. Please use register_full_backward_hook to get the documented behavior.\n",
      "  warnings.warn(\"Using a non-full backward hook when the forward contains multiple autograd Nodes \"\n"
     ]
    },
    {
     "name": "stdout",
     "output_type": "stream",
     "text": [
      "switch to idx 1\n",
      "Inverting Sigma...\n",
      "Loading model no.  1\n",
      "Number of train samples 500\n",
      "Using sub dataset of size 49500\n",
      "Using sub dataset of size 500\n"
     ]
    },
    {
     "name": "stderr",
     "output_type": "stream",
     "text": [
      "Using cache found in /home/dsar/.cache/torch/hub/chenyaofo_pytorch-cifar-models_master\n"
     ]
    },
    {
     "name": "stdout",
     "output_type": "stream",
     "text": [
      "switch to idx 1\n",
      "Inverting Sigma...\n",
      "Loading model no.  2\n",
      "Number of train samples 500\n",
      "Using sub dataset of size 49500\n",
      "Using sub dataset of size 500\n"
     ]
    },
    {
     "name": "stderr",
     "output_type": "stream",
     "text": [
      "Using cache found in /home/dsar/.cache/torch/hub/chenyaofo_pytorch-cifar-models_master\n"
     ]
    },
    {
     "name": "stdout",
     "output_type": "stream",
     "text": [
      "switch to idx 1\n",
      "Inverting Sigma...\n",
      "Loading model no.  3\n",
      "Number of train samples 500\n",
      "Using sub dataset of size 49500\n",
      "Using sub dataset of size 500\n"
     ]
    },
    {
     "name": "stderr",
     "output_type": "stream",
     "text": [
      "Using cache found in /home/dsar/.cache/torch/hub/chenyaofo_pytorch-cifar-models_master\n"
     ]
    },
    {
     "name": "stdout",
     "output_type": "stream",
     "text": [
      "switch to idx 1\n",
      "Inverting Sigma...\n",
      "Loading model no.  4\n",
      "Number of train samples 500\n",
      "Using sub dataset of size 49500\n",
      "Using sub dataset of size 500\n"
     ]
    },
    {
     "name": "stderr",
     "output_type": "stream",
     "text": [
      "Using cache found in /home/dsar/.cache/torch/hub/chenyaofo_pytorch-cifar-models_master\n"
     ]
    },
    {
     "name": "stdout",
     "output_type": "stream",
     "text": [
      "switch to idx 1\n",
      "Inverting Sigma...\n",
      "Loading model no.  0\n",
      "Number of train samples 1970\n",
      "Using sub dataset of size 53524\n",
      "Using sub dataset of size 1970\n"
     ]
    },
    {
     "name": "stderr",
     "output_type": "stream",
     "text": [
      "/home/dsar/miniconda3/envs/opacus/lib/python3.10/site-packages/torch/nn/modules/module.py:1344: UserWarning: Using a non-full backward hook when the forward contains multiple autograd Nodes is deprecated and will be removed in future versions. This hook will be missing some grad_input. Please use register_full_backward_hook to get the documented behavior.\n",
      "  warnings.warn(\"Using a non-full backward hook when the forward contains multiple autograd Nodes \"\n"
     ]
    },
    {
     "name": "stdout",
     "output_type": "stream",
     "text": [
      "switch to idx 1\n",
      "Inverting Sigma...\n",
      "Loading model no.  1\n",
      "Number of train samples 1970\n",
      "Using sub dataset of size 53524\n",
      "Using sub dataset of size 1970\n",
      "switch to idx 1\n",
      "Inverting Sigma...\n",
      "Loading model no.  2\n",
      "Number of train samples 1970\n",
      "Using sub dataset of size 53524\n",
      "Using sub dataset of size 1970\n",
      "switch to idx 1\n",
      "Inverting Sigma...\n",
      "Loading model no.  3\n",
      "Number of train samples 1970\n",
      "Using sub dataset of size 53524\n",
      "Using sub dataset of size 1970\n",
      "switch to idx 1\n",
      "Inverting Sigma...\n",
      "Loading model no.  4\n",
      "Number of train samples 1970\n",
      "Using sub dataset of size 53524\n",
      "Using sub dataset of size 1970\n",
      "switch to idx 1\n",
      "Inverting Sigma...\n",
      "Loading model no.  0\n",
      "Number of train samples 790\n",
      "Using sub dataset of size 43052\n",
      "Using sub dataset of size 790\n"
     ]
    },
    {
     "name": "stderr",
     "output_type": "stream",
     "text": [
      "/home/dsar/miniconda3/envs/opacus/lib/python3.10/site-packages/torch/nn/modules/module.py:1344: UserWarning: Using a non-full backward hook when the forward contains multiple autograd Nodes is deprecated and will be removed in future versions. This hook will be missing some grad_input. Please use register_full_backward_hook to get the documented behavior.\n",
      "  warnings.warn(\"Using a non-full backward hook when the forward contains multiple autograd Nodes \"\n"
     ]
    },
    {
     "name": "stdout",
     "output_type": "stream",
     "text": [
      "switch to idx 1\n",
      "Inverting Sigma...\n",
      "Loading model no.  1\n",
      "Number of train samples 790\n",
      "Using sub dataset of size 43052\n",
      "Using sub dataset of size 790\n",
      "switch to idx 1\n",
      "Inverting Sigma...\n",
      "Loading model no.  2\n",
      "Number of train samples 790\n",
      "Using sub dataset of size 43052\n",
      "Using sub dataset of size 790\n",
      "switch to idx 1\n",
      "Inverting Sigma...\n",
      "Loading model no.  3\n",
      "Number of train samples 790\n",
      "Using sub dataset of size 43052\n",
      "Using sub dataset of size 790\n",
      "switch to idx 1\n",
      "Inverting Sigma...\n",
      "Loading model no.  4\n",
      "Number of train samples 790\n",
      "Using sub dataset of size 43052\n",
      "Using sub dataset of size 790\n",
      "switch to idx 1\n",
      "Inverting Sigma...\n"
     ]
    }
   ],
   "source": [
    "## Run the attacks on the model\n",
    "fs_use = np.linspace(0,1,100)\n",
    "ts_rates_all = {}\n",
    "for dset in [\"cifar10\", \"purchase\", \"adult\"]:\n",
    "    scores_list = run_glir_single_step(params_list[dset], models_use = 5)\n",
    "    ts_rates_all[dset] = interpolate_tprs(fs_use, scores_list)"
   ]
  },
  {
   "cell_type": "code",
   "execution_count": 14,
   "id": "82539a01-5139-4d6b-96ab-19e2469d225e",
   "metadata": {},
   "outputs": [
    {
     "data": {
      "image/png": "[encoded data removed]",
      "text/plain": [
       "<Figure size 300x220 with 1 Axes>"
      ]
     },
     "metadata": {},
     "output_type": "display_data"
    }
   ],
   "source": [
    "#ts_rates_all = torch.load(\"figures/grad_attack_rates1.pt\")\n",
    "colors = [\"g\", \"m\", \"r\"]\n",
    "for setup_use, color_use in zip(ts_rates_all.keys(), colors):\n",
    "    mean_rnd = np.mean(ts_rates_all[setup_use], axis=0)\n",
    "    mean_rnd_std = np.std(ts_rates_all[setup_use], axis=0) # Standard error\n",
    "    plt.fill_between(fs_use, mean_rnd-mean_rnd_std, mean_rnd+mean_rnd_std, color=color_use, alpha = 0.1)\n",
    "    plt.plot(fs_use, mean_rnd, label = f\"{setup_use}\", color=color_use)  \n",
    "\n",
    "plt.plot(fs_use, fs_use, \"--k\", linewidth=2)\n",
    "\n",
    "plt.plot(fs_use, analytical_tpr(fs_use, 1.14), \"--\", color=\"tab:blue\", label = \"analytical\\n($\\mu=1.14$)\", linewidth=2)\n",
    "plt.ylabel(\"TPR\")\n",
    "plt.xlabel(\"FPR\")\n",
    "plt.legend(loc=\"lower right\")\n",
    "plt.grid(color='0.6')\n",
    "plt.gcf().set_size_inches(3.0,2.2)\n",
    "plt.tight_layout()"
   ]
  }
 ],
 "metadata": {
  "kernelspec": {
   "display_name": "opacus",
   "language": "python",
   "name": "opacus"
  },
  "language_info": {
   "codemirror_mode": {
    "name": "ipython",
    "version": 3
   },
   "file_extension": ".py",
   "mimetype": "text/x-python",
   "name": "python",
   "nbconvert_exporter": "python",
   "pygments_lexer": "ipython3",
   "version": "3.10.10"
  }
 },
 "nbformat": 4,
 "nbformat_minor": 5
}
