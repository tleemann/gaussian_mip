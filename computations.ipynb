{
 "cells": [
  {
   "cell_type": "code",
   "execution_count": 11,
   "metadata": {},
   "outputs": [],
   "source": [
    "from gmip.utils import  analytical_tpr,fn_dong\n",
    "from ipywidgets import widgets, interactive, HBox, VBox, Layout, FloatText, IntText, Text, Button, Output\n",
    "from IPython.display import display, Markdown\n",
    "import matplotlib.pyplot as plt\n",
    "import numpy as np\n",
    "from scipy.integrate import trapz \n",
    "import math"
   ]
  },
  {
   "cell_type": "code",
   "execution_count": 17,
   "metadata": {},
   "outputs": [],
   "source": [
    "def plot_x(mu=1):\n",
    "    w = np.linspace(0, 1, 100)\n",
    "    plt.ylabel(\"TPR\")\n",
    "    plt.xlabel(\"FPR\")\n",
    "    plt.xlim(0, 1)\n",
    "    plt.ylim(0, 1)\n",
    "  \n",
    "    plt.grid(color='0.6')\n",
    "    plt.gcf().set_size_inches(3.0,3.0)\n",
    "    plt.plot(w,analytical_tpr(w,mu))\n",
    "    plt.title(\"Trade-off curve\")\n",
    "\n",
    "def calc_privacy_lvl(C, tau, T, n, N, d, K):\n",
    "    #print(C, tau, T, n, N, d, K)\n",
    "    n_eff = n + (n*n*tau*tau)/(C*C)\n",
    "    #print(\"neff=\", n_eff)\n",
    "    #mu_step = (d+(2*n_eff-1)*K)/(n_eff*math.sqrt(2*d + 4*n_eff*K))\n",
    "    mu_step = (d+(2*n-1)*K)/(n_eff*math.sqrt(2*d + 4*((n*n)/n_eff)*K))\n",
    "    #print(\"mu_step=\", mu_step)\n",
    "    c = (n*math.sqrt(T))/N\n",
    "    mu_tot =  c*fn_dong(mu_step)\n",
    "    return mu_tot\n",
    "\n",
    "def floater(C):\n",
    "    try:\n",
    "        # Try converting C to float. 'inf' will become float('inf'), and numeric strings will become floats.\n",
    "        C = math.inf if C == 'inf' else float(C)\n",
    "    except ValueError:\n",
    "        # If C cannot be converted to float (meaning it's not a numeric string or 'inf'), default to 1.0\n",
    "        C = 1.0\n",
    "    return C"
   ]
  },
  {
   "cell_type": "code",
   "execution_count": 21,
   "metadata": {},
   "outputs": [
    {
     "data": {
      "text/markdown": [
       "<strong>How private is your model?</strong><br/>"
      ],
      "text/plain": [
       "<IPython.core.display.Markdown object>"
      ]
     },
     "metadata": {},
     "output_type": "display_data"
    },
    {
     "data": {
      "application/vnd.jupyter.widget-view+json": {
       "model_id": "1730509e5e064d099c466650d7231d40",
       "version_major": 2,
       "version_minor": 0
      },
      "text/plain": [
       "interactive(children=(Text(value='inf', description='Cropping threshold (C):', placeholder='Enter a number or …"
      ]
     },
     "metadata": {},
     "output_type": "display_data"
    }
   ],
   "source": [
    "def wrapper(C, tau, T, n, N, d, K):\n",
    "    C=floater(C)\n",
    "    result = calc_privacy_lvl(C, tau, T, n, N, d, K)\n",
    "    fpr_values = np.linspace(0, 1, 100)\n",
    "    tpr_values = [analytical_tpr(fpr, result) for fpr in fpr_values]\n",
    "    au_roc = trapz(tpr_values, fpr_values)\n",
    "    tpr_at_001 = tpr_values[np.argmin(np.abs(fpr_values - 0.01))]\n",
    "    tpr_at_005 = tpr_values[np.argmin(np.abs(fpr_values - 0.05))]\n",
    "    acc = 0.5*(tpr_values + (1-fpr_values))\n",
    "    print(f\"Privacy Level: {result}\")\n",
    "    print(f\"AU-ROC: {au_roc}\")\n",
    "    print(f\"TPR@0.01: {tpr_at_001}\")\n",
    "    print(f\"TPR@0.05: {tpr_at_005}\")\n",
    "    print('Accuracy:',np.max(acc))\n",
    "    plot_x(result)\n",
    "\n",
    "\n",
    "    \n",
    "    \n",
    "display(Markdown('<strong>{}</strong><br/>'.format(\"How private is your model?\")))\n",
    "C_widget = widgets.Text(value='inf', description='Cropping threshold (C):', placeholder='Enter a number or inf')\n",
    "tau_widget = widgets.FloatText(value=0, description='tau:')#noise added to gradient \n",
    "T_widget = widgets.IntText(value=10, description='T:')# Number of SGD steps\n",
    "n_widget = widgets.IntText(value=10, description='n:') # Size of the dataset HOW MUCH\n",
    "N_widget = widgets.IntText(value=10, description='N:')# Number of the dataset\n",
    "d_widget = widgets.IntText(value=2, description='d:')# Number of parameters of the model\n",
    "K_widget = widgets.FloatText(value=1.0, description='K:')# Data-dependent susceptibility\n",
    "\n",
    "ui = widgets.interactive(wrapper, C=C_widget, tau=tau_widget, T=T_widget, n=n_widget, N=N_widget, d=d_widget, K=K_widget)\n",
    "display(ui)\n",
    "#widgets.interact(plot_x,mu=(0,5,0.1))\n",
    "\n",
    "#inf string change in func\n"
   ]
  },
  {
   "cell_type": "code",
   "execution_count": null,
   "metadata": {},
   "outputs": [],
   "source": []
  },
  {
   "cell_type": "code",
   "execution_count": null,
   "metadata": {},
   "outputs": [],
   "source": []
  }
 ],
 "metadata": {
  "kernelspec": {
   "display_name": "gaussian_mip",
   "language": "python",
   "name": "gaussian_mip"
  },
  "language_info": {
   "codemirror_mode": {
    "name": "ipython",
    "version": 3
   },
   "file_extension": ".py",
   "mimetype": "text/x-python",
   "name": "python",
   "nbconvert_exporter": "python",
   "pygments_lexer": "ipython3",
   "version": "3.10.10"
  }
 },
 "nbformat": 4,
 "nbformat_minor": 4
}
