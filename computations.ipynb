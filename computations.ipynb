{
 "cells": [
  {
   "cell_type": "code",
   "execution_count": 1,
   "metadata": {},
   "outputs": [],
   "source": [
    "from gmip.utils import  analytical_tpr,fn_dong\n",
    "from ipywidgets import widgets, Layout\n",
    "from IPython.display import display, Markdown\n",
    "import matplotlib.pyplot as plt\n",
    "import numpy as np\n",
    "from scipy.integrate import trapz \n",
    "import math"
   ]
  },
  {
   "cell_type": "code",
   "execution_count": 19,
   "metadata": {},
   "outputs": [],
   "source": [
    "def plot_x(mu=1):\n",
    "    w = np.linspace(0, 1, 100)\n",
    "    plt.ylabel(\"TPR\")\n",
    "    plt.xlabel(\"FPR\")\n",
    "    plt.xlim(0, 1)\n",
    "    plt.ylim(0, 1)\n",
    "  \n",
    "    plt.grid(color='0.6')\n",
    "    plt.gcf().set_size_inches(3.0,3.0)\n",
    "    plt.plot(w,analytical_tpr(w,mu))\n",
    "    plt.title(\"Trade-off curve\")\n",
    "\n",
    "def calc_privacy_lvl(C, tau, T, n, N, d):\n",
    "    n_eff = n + (n*n*tau*tau)/(C*C)\n",
    "    mu_step = (d+(2*n-1))/(n_eff*math.sqrt(2*d + 4*((n*n)/n_eff)))\n",
    "    c = (n*math.sqrt(T))/N\n",
    "    mu_tot =  c*fn_dong(mu_step)\n",
    "    return mu_tot\n",
    "\n",
    "def floater(C):\n",
    "    try:\n",
    "        C = math.inf if C == 'inf' else float(C)\n",
    "    except ValueError:\n",
    "        C = 1.0\n",
    "    return C"
   ]
  },
  {
   "cell_type": "markdown",
   "metadata": {},
   "source": [
    " Notes: \n",
    " - The cropping threshold C only has an effect, when tau > 0.0.\n",
    " - Also have finite privacy without noise, when tau = 0.0."
   ]
  },
  {
   "cell_type": "code",
   "execution_count": 21,
   "metadata": {},
   "outputs": [
    {
     "data": {
      "application/vnd.jupyter.widget-view+json": {
       "model_id": "61dfe71f1ccc4e71bc3b2e5046f4fe91",
       "version_major": 2,
       "version_minor": 0
      },
      "text/plain": [
       "VBox(children=(HTML(value='<h3>How Private is Your Model?</h3>'), Text(value='inf', description='Cropping thre…"
      ]
     },
     "metadata": {},
     "output_type": "display_data"
    },
    {
     "data": {
      "application/vnd.jupyter.widget-view+json": {
       "model_id": "490386bb9326438899a66c0857cbc8e6",
       "version_major": 2,
       "version_minor": 0
      },
      "text/plain": [
       "Output()"
      ]
     },
     "metadata": {},
     "output_type": "display_data"
    }
   ],
   "source": [
    "def wrapper(C, tau, T, n, N, d):\n",
    "    C = float(C)\n",
    "    result = calc_privacy_lvl(C, tau, T, n, N, d)\n",
    "    fpr_values = np.linspace(0, 1, 100)\n",
    "    tpr_values = [analytical_tpr(fpr, result) for fpr in fpr_values]\n",
    "    au_roc = trapz(tpr_values, fpr_values)\n",
    "    tpr_at_001 = tpr_values[np.argmin(np.abs(fpr_values - 0.01))]\n",
    "    tpr_at_005 = tpr_values[np.argmin(np.abs(fpr_values - 0.05))]\n",
    "    acc = 0.5 * (tpr_values + (1 - fpr_values))\n",
    "    \n",
    "    print(f\"Privacy Level: {result}\")\n",
    "    print(f\"AU-ROC: {au_roc}\")\n",
    "    print(f\"TPR@0.01: {tpr_at_001}\")\n",
    "    print(f\"TPR@0.05: {tpr_at_005}\")\n",
    "    print('Accuracy:', np.max(acc))\n",
    "    \n",
    "    fig, ax = plt.subplots()\n",
    "    ax.plot(fpr_values, tpr_values, label='TPR vs. FPR')\n",
    "    ax.fill_between(fpr_values, tpr_values, step='mid', alpha=0.4)\n",
    "    ax.set_xlabel('False Positive Rate')\n",
    "    ax.set_ylabel('True Positive Rate')\n",
    "    ax.set_title('ROC Curve')\n",
    "    ax.legend()\n",
    "    plt.show()\n",
    "\n",
    "style = {'description_width': 'initial'}\n",
    "layout = {'width': '400px'}\n",
    "C_widget = widgets.Text(value='inf', description='Cropping threshold (C):', style=style, layout=layout)\n",
    "tau_widget = widgets.FloatText(value=0, description='Tau (Noise):', style=style, layout=layout)\n",
    "T_widget = widgets.IntText(value=10, description='T (SGD Steps):', style=style, layout=layout)\n",
    "n_widget = widgets.IntText(value=10, description='n (Dataset Size):', style=style, layout=layout)\n",
    "N_widget = widgets.IntText(value=10, description='N (Number in Dataset):', style=style, layout=layout)\n",
    "d_widget = widgets.IntText(value=2, description='d (Model Parameters):', style=style, layout=layout)\n",
    "\n",
    "ui = widgets.VBox([\n",
    "    widgets.HTML('<h3>How Private is Your Model?</h3>'),\n",
    "    C_widget, tau_widget, T_widget, n_widget, N_widget, d_widget\n",
    "])\n",
    "\n",
    "out = widgets.interactive_output(wrapper, {'C': C_widget, 'tau': tau_widget, 'T': T_widget, 'n': n_widget, 'N': N_widget, 'd': d_widget})\n",
    "\n",
    "display(ui, out)"
   ]
  }
 ],
 "metadata": {
  "kernelspec": {
   "display_name": "gaussian_mip2",
   "language": "python",
   "name": "python3"
  },
  "language_info": {
   "codemirror_mode": {
    "name": "ipython",
    "version": 3
   },
   "file_extension": ".py",
   "mimetype": "text/x-python",
   "name": "python",
   "nbconvert_exporter": "python",
   "pygments_lexer": "ipython3",
   "version": "3.10.10"
  }
 },
 "nbformat": 4,
 "nbformat_minor": 4
}
