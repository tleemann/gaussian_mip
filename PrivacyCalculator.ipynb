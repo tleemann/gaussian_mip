{
 "cells": [
  {
   "cell_type": "code",
   "execution_count": 1,
   "metadata": {},
   "outputs": [
    {
     "data": {
      "application/vnd.jupyter.widget-view+json": {
       "model_id": "8fb7d354dd1d4ab9aecb8acd3b8f006a",
       "version_major": 2,
       "version_minor": 0
      },
      "text/plain": [
       "VBox(children=(HTML(value=\"<h3>How Membership Inference Private is Your Model?</h3>Enter your model's paramete…"
      ]
     },
     "metadata": {},
     "output_type": "display_data"
    },
    {
     "data": {
      "application/vnd.jupyter.widget-view+json": {
       "model_id": "6895bdce4d6c4015953510f3122c6e6e",
       "version_major": 2,
       "version_minor": 0
      },
      "text/plain": [
       "Output()"
      ]
     },
     "metadata": {},
     "output_type": "display_data"
    }
   ],
   "source": [
    "from ipywidgets import widgets, Layout\n",
    "from IPython.display import display, Markdown, HTML\n",
    "import matplotlib.pyplot as plt\n",
    "import numpy as np\n",
    "from scipy.integrate import trapz \n",
    "import math\n",
    "from scipy.stats import norm\n",
    "\n",
    "def plot_x(mu=1):\n",
    "    w = np.linspace(0, 1, 100)\n",
    "    plt.ylabel(\"TPR\")\n",
    "    plt.xlabel(\"FPR\")\n",
    "    plt.xlim(0, 1)\n",
    "    plt.ylim(0, 1)\n",
    "  \n",
    "    plt.grid(color='0.6')\n",
    "    plt.plot(w,analytical_tpr(w,mu), c=\"tab:green\")\n",
    "    plt.plot([0,1], [0,1], \"--k\", label=\"random guessing\")\n",
    "    plt.title(\"Trade-off curve\")\n",
    "\n",
    "def analytical_tpr(fpr, mu):\n",
    "    return 1-norm.cdf(norm.ppf(1-fpr)-mu)\n",
    "    \n",
    "def calc_privacy_lvl(C, tau, T, n, N, d):\n",
    "    K = d\n",
    "    n_eff = n + (n*n*tau*tau)/(C*C)\n",
    "    mu_step = (d+(2*n-1)*K)/(n_eff*math.sqrt(2*d + 4*((n*n)/n_eff)*K))\n",
    "    c = (n*math.sqrt(T))/N\n",
    "    mu_tot =  c*fn_dong(mu_step)\n",
    "    return mu_tot\n",
    "\n",
    "def fn_dong(mus):\n",
    "    return math.sqrt(2)*math.sqrt(math.exp(mus*mus)*norm.cdf(1.5*mus)+3*norm.cdf(-0.5*mus)-2)\n",
    "def floater(C):\n",
    "    try:\n",
    "        C = math.inf if C == 'inf' else float(C)\n",
    "    except ValueError:\n",
    "        C = 1.0\n",
    "    return C\n",
    "\n",
    "def wrapper(C, tau, T, n, N, d):\n",
    "    C = float(C)\n",
    "    result = calc_privacy_lvl(C, tau, T, n, N, d)\n",
    "    fpr_values = np.linspace(0, 1, 100)\n",
    "    tpr_values = [analytical_tpr(fpr, result) for fpr in fpr_values]\n",
    "    au_roc = trapz(tpr_values, fpr_values)\n",
    "    tpr_at_001 = tpr_values[np.argmin(np.abs(fpr_values - 0.01))]\n",
    "    tpr_at_005 = tpr_values[np.argmin(np.abs(fpr_values - 0.05))]\n",
    "    ## Analycical acc = CDF(0.5*mu)\n",
    "    acc = norm.cdf(0.5*result)\n",
    "    display(HTML(\"<hr>\"))\n",
    "    display(Markdown(f\"GMIP Privacy Level (mu): \\t **{result:.3f}**\"))\n",
    "    display(Markdown(f\"AU-ROC:\\t **{au_roc:.3f}**\"))\n",
    "    display(Markdown(f\"Accuracy: **{acc:.3f}**\"))\n",
    "    display(Markdown(f\"TPR'@0.01: {tpr_at_001:.3f}\"))\n",
    "    display(Markdown(f\"TPR'@0.05: {tpr_at_005:.3f}\"))\n",
    "    display(HTML(\"<hr>\"))\n",
    "    #print(f\"GMIP Privacy Level (mu): {result}\")\n",
    "    #print(f\"AU-ROC: {au_roc}\")\n",
    "    #print(f\"TPR@0.01: {tpr_at_001}\")\n",
    "    #print(f\"TPR@0.05: {tpr_at_005}\")\n",
    "    #print('Accuracy:', np.max(acc))\n",
    "    \n",
    "    fig, ax = plt.subplots()\n",
    "    ax.plot(fpr_values, tpr_values, \"tab:green\", label='TPR vs. FPR')\n",
    "    ax.fill_between(fpr_values, tpr_values, color=\"tab:green\", step='mid', alpha=0.4)\n",
    "    ax.plot([0,1], [0,1], \"--k\", label=\"random guessing\")\n",
    "    ax.set_xlabel('False Positive Rate')\n",
    "    ax.set_ylabel('True Positive Rate')\n",
    "    ax.set_title('Trade-off Curve')\n",
    "    ax.legend()\n",
    "    fig.set_size_inches(3,3)\n",
    "    plt.show()\n",
    "\n",
    "style = {'description_width': 'initial'}\n",
    "layout = {'width': '300px'}\n",
    "C_widget = widgets.Text(value='inf', description='Cropping threshold (C):', style=style, layout=layout)\n",
    "tau_widget = widgets.FloatText(value=0, description='Tau (Noise):', style=style, layout=layout)\n",
    "T_widget = widgets.IntText(value=1200, description='T (SGD Steps):', style=style, layout=layout, continuous_update=True)\n",
    "n_widget = widgets.IntText(value=400, description='n (Batch Size):', style=style, layout=layout, continuous_update=True)\n",
    "N_widget = widgets.IntText(value=48000, description='N (Samples in Dataset):', style=style, layout=layout, continuous_update=True)\n",
    "d_widget = widgets.IntText(value=650, description='d (Model Parameters):', style=style, layout=layout, continuous_update=True)\n",
    "\n",
    "ui = widgets.VBox([\n",
    "    widgets.HTML(\"<h3>How Membership Inference Private is Your Model?</h3>Enter your model's parameters to find out.\"),\n",
    "    C_widget, tau_widget, T_widget, n_widget, N_widget, d_widget\n",
    "])\n",
    "\n",
    "out = widgets.interactive_output(wrapper, {'C': C_widget, 'tau': tau_widget, 'T': T_widget, 'n': n_widget, 'N': N_widget, 'd': d_widget})\n",
    "\n",
    "display(ui, out)"
   ]
  },
  {
   "cell_type": "markdown",
   "metadata": {},
   "source": [
    " Notes: \n",
    " - The cropping threshold C only has an effect, when tau > 0.0. Vice versa, the noise level has an effect if C < $\\infty$.\n",
    " - Also have finite privacy without noise, when tau = 0.0."
   ]
  }
 ],
 "metadata": {
  "kernelspec": {
   "display_name": "gaussian_mip",
   "language": "python",
   "name": "gaussian_mip"
  },
  "language_info": {
   "codemirror_mode": {
    "name": "ipython",
    "version": 3
   },
   "file_extension": ".py",
   "mimetype": "text/x-python",
   "name": "python",
   "nbconvert_exporter": "python",
   "pygments_lexer": "ipython3",
   "version": "3.10.10"
  }
 },
 "nbformat": 4,
 "nbformat_minor": 4
}
